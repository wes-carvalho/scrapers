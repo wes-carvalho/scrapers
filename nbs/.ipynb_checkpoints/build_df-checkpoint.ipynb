{
 "cells": [
  {
   "cell_type": "markdown",
   "metadata": {},
   "source": [
    "# Construção da base a partir do JSON\n",
    "\n",
    "________\n",
    "_______\n",
    "_______"
   ]
  },
  {
   "cell_type": "code",
   "execution_count": 1,
   "metadata": {},
   "outputs": [],
   "source": [
    "import numpy as np\n",
    "import pandas as pd\n",
    "import json\n",
    "\n",
    "import matplotlib.pyplot as plt\n",
    "import seaborn as sns\n",
    "\n",
    "pd.options.display.float_format = \"{:.2f}\".format"
   ]
  },
  {
   "cell_type": "code",
   "execution_count": 2,
   "metadata": {},
   "outputs": [],
   "source": [
    "# função de exibição \n",
    "\n",
    "def show_all(df):\n",
    "    \n",
    "    pd.set_option('display.max_colwidth', None)\n",
    "    pd.set_option('display.max_columns', None)\n",
    "    pd.set_option('display.max_columns', None)\n",
    "    \n",
    "    display(df)\n",
    "    \n",
    "    pd.reset_option('display.max_colwidth')\n",
    "    pd.reset_option('display.max_columns')\n",
    "    pd.reset_option('display.max_columns')\n",
    "    "
   ]
  },
  {
   "cell_type": "markdown",
   "metadata": {},
   "source": [
    "______\n",
    "\n",
    "### 1) Leitura dos dados"
   ]
  },
  {
   "cell_type": "code",
   "execution_count": 3,
   "metadata": {},
   "outputs": [],
   "source": [
    "# lê o arquivo e cria lista com cada json\n",
    "\n",
    "with open(\"../data/car_info.json\") as f:\n",
    "    \n",
    "    json_list = json.load(f)"
   ]
  },
  {
   "cell_type": "code",
   "execution_count": 4,
   "metadata": {},
   "outputs": [
    {
     "data": {
      "text/plain": [
       "['Channels', 'HotDeal']"
      ]
     },
     "execution_count": 4,
     "metadata": {},
     "output_type": "execute_result"
    }
   ],
   "source": [
    "# identificando quais chaves têm listas como valores\n",
    "# nestes casos, o json_normalize falha, por isso é importante identificarmos\n",
    "# antes pra fazer o flatenning\n",
    "\n",
    "list_values = []\n",
    "for item in json_list:\n",
    "    \n",
    "    for key in item.keys():\n",
    "\n",
    "        if type(item[key]) == list:\n",
    "\n",
    "            # print(key, item[key])\n",
    "            \n",
    "            if key not in list_values:\n",
    "                \n",
    "                list_values.append(key)\n",
    "                \n",
    "    # print(\"\\n\", \"#\"*20, \"\\n\")\n",
    "    \n",
    "list_values"
   ]
  },
  {
   "cell_type": "code",
   "execution_count": 5,
   "metadata": {},
   "outputs": [],
   "source": [
    "# fazendo o flattening dos valores que são listas\n",
    "\n",
    "for item in json_list:\n",
    "    \n",
    "    for key in list_values:\n",
    "\n",
    "        try:\n",
    "            for i in range(len(item[key])):\n",
    "\n",
    "                item[key + \"_\" + str(i+1)] = item[key][i]\n",
    "                \n",
    "            item.pop(key)\n",
    "        \n",
    "        except:\n",
    "            \n",
    "            pass"
   ]
  },
  {
   "cell_type": "code",
   "execution_count": 6,
   "metadata": {},
   "outputs": [],
   "source": [
    "# montando o df\n",
    "\n",
    "df = pd.json_normalize(json_list)"
   ]
  },
  {
   "cell_type": "code",
   "execution_count": null,
   "metadata": {},
   "outputs": [],
   "source": []
  },
  {
   "cell_type": "code",
   "execution_count": 7,
   "metadata": {},
   "outputs": [
    {
     "data": {
      "text/plain": [
       "['UniqueId',\n",
       " 'ProductCode',\n",
       " 'LongComment',\n",
       " 'FipePercent',\n",
       " 'Specification.Title',\n",
       " 'Specification.Make.id',\n",
       " 'Specification.Make.Value',\n",
       " 'Specification.Model.id',\n",
       " 'Specification.Model.Value',\n",
       " 'Specification.Version.id',\n",
       " 'Specification.Version.Value',\n",
       " 'Specification.YearFabrication',\n",
       " 'Specification.YearModel',\n",
       " 'Specification.Odometer',\n",
       " 'Specification.Transmission',\n",
       " 'Specification.NumberPorts',\n",
       " 'Specification.BodyType',\n",
       " 'Specification.VehicleAttributes',\n",
       " 'Specification.Armored',\n",
       " 'Specification.Color.IdPrimary',\n",
       " 'Specification.Color.Primary',\n",
       " 'Seller.Id',\n",
       " 'Seller.SellerType',\n",
       " 'Seller.City',\n",
       " 'Seller.State',\n",
       " 'Seller.AdType.id',\n",
       " 'Seller.AdType.Value',\n",
       " 'Seller.BudgetInvestimento',\n",
       " 'Seller.DealerScore',\n",
       " 'Seller.CarDelivery',\n",
       " 'Seller.TrocaComTroco',\n",
       " 'Prices.Price',\n",
       " 'Prices.SearchPrice',\n",
       " 'Channels_1.id',\n",
       " 'Channels_1.Value',\n",
       " 'GoodDeal',\n",
       " 'Channels_2.id',\n",
       " 'Channels_2.Value',\n",
       " 'Prices.OldPrice',\n",
       " 'HotDeal_1.Id',\n",
       " 'HotDeal_1.Value',\n",
       " 'VipAutopago']"
      ]
     },
     "execution_count": 7,
     "metadata": {},
     "output_type": "execute_result"
    }
   ],
   "source": [
    "df.columns.tolist()"
   ]
  },
  {
   "cell_type": "markdown",
   "metadata": {},
   "source": [
    "_______\n",
    "\n",
    "### 2) Pré-processamento"
   ]
  },
  {
   "cell_type": "code",
   "execution_count": 8,
   "metadata": {},
   "outputs": [
    {
     "data": {
      "text/plain": [
       "LongComment                         8.31%\n",
       "FipePercent                         4.01%\n",
       "Specification.VehicleAttributes      1.0%\n",
       "GoodDeal                           80.89%\n",
       "Channels_2.id                       87.4%\n",
       "Channels_2.Value                    87.4%\n",
       "Prices.OldPrice                    99.59%\n",
       "HotDeal_1.Id                        98.6%\n",
       "HotDeal_1.Value                     98.6%\n",
       "VipAutopago                        99.82%\n",
       "dtype: object"
      ]
     },
     "execution_count": 8,
     "metadata": {},
     "output_type": "execute_result"
    }
   ],
   "source": [
    "# colunas com dados missing\n",
    "\n",
    "missing = df.isnull().sum()[df.isnull().sum().apply(lambda x: True if x!=0 else False)]\n",
    "\n",
    "# normalizando\n",
    "missing = (missing/df.shape[0])\n",
    "\n",
    "missing.apply(lambda x: str(round(x*100, 2)) + \"%\" if x != 0 else \"-\")"
   ]
  },
  {
   "cell_type": "code",
   "execution_count": 9,
   "metadata": {},
   "outputs": [
    {
     "name": "stdout",
     "output_type": "stream",
     "text": [
      "\n",
      "Threshold: 50.0%\n",
      "\n"
     ]
    },
    {
     "data": {
      "text/plain": [
       "GoodDeal           0.81\n",
       "Channels_2.id      0.87\n",
       "Channels_2.Value   0.87\n",
       "Prices.OldPrice    1.00\n",
       "HotDeal_1.Id       0.99\n",
       "HotDeal_1.Value    0.99\n",
       "VipAutopago        1.00\n",
       "dtype: float64"
      ]
     },
     "metadata": {},
     "output_type": "display_data"
    }
   ],
   "source": [
    "# vamos dropar as colunas que tenham mais que 50% de NaNs\n",
    "\n",
    "threshold_drop = 0.5\n",
    "\n",
    "print(\"\\nThreshold: \" + str(threshold_drop*100) + \"%\\n\")\n",
    "display(missing[missing>threshold_drop])\n",
    "\n",
    "drop_nans = missing[missing>threshold_drop].index.tolist()\n",
    "\n",
    "# dropando!\n",
    "df = df.drop(columns=drop_nans)"
   ]
  },
  {
   "cell_type": "code",
   "execution_count": 10,
   "metadata": {},
   "outputs": [],
   "source": [
    "# renomeando colunas\n",
    "\n",
    "rename_dic = {'LongComment' : 'comentario',\n",
    "                'FipePercent' : 'fipe_perc',\n",
    "                'Specification.Title' : 'titulo_anuncio',\n",
    "                'Specification.Make.Value' : 'marca',\n",
    "                'Specification.Model.Value' : 'modelo',\n",
    "                'Specification.Version.Value' : 'versao',\n",
    "                'Specification.YearFabrication' : 'ano',\n",
    "                'Specification.YearModel' : 'ano_modelo',\n",
    "                'Specification.Odometer' : 'km',\n",
    "                'Specification.Transmission' : 'transmissao',\n",
    "                'Specification.NumberPorts' : 'num_portas',\n",
    "                'Specification.VehicleAttributes' : 'atributos',\n",
    "                'Specification.BodyType' : \"categoria\",\n",
    "                'Specification.Armored' : 'blindado',\n",
    "                'Specification.Color.Primary' : 'cor',\n",
    "                'Seller.SellerType' : 'vendedor_tipo',\n",
    "                'Seller.City' : 'vendedor_cidade',\n",
    "                'Seller.State' : 'vendedor_estado',\n",
    "                'Seller.AdType.Value' : 'tipo_anuncio',\n",
    "                'Seller.CarDelivery' : 'car_delivery',\n",
    "                'Seller.TrocaComTroco' : 'troca_troco',\n",
    "                'Prices.Price' : 'preco',\n",
    "                'Prices.SearchPrice' : 'preco_busca',\n",
    "              \n",
    "                'UniqueId' : 'UniqueId',\n",
    "                'ProductCode' : 'ProductCode',                \n",
    "                'Specification.Make.id' : 'Specification.Make.id',\n",
    "                'Specification.Model.id' : 'Specification.Model.id',\n",
    "                'Specification.Version.id' : 'Specification.Version.id',\n",
    "                'Specification.Color.IdPrimary' : 'Specification.Color.IdPrimary',\n",
    "                'Seller.Id' : 'Seller.Id',                \n",
    "                'Seller.AdType.id' : 'Seller.AdType.id',                \n",
    "                'Seller.BudgetInvestimento' : 'Seller.BudgetInvestimento',\n",
    "                'Seller.DealerScore' : 'Seller.DealerScore',                \n",
    "                'Channels_1.id' : 'Channels_1.id',\n",
    "                'Channels_1.Value' : 'Channels_1.Value'}\n",
    "\n",
    "df = df.rename(columns=rename_dic)\n",
    "\n",
    "cols_select = ['titulo_anuncio','marca','modelo','versao','ano','ano_modelo','km',\n",
    "               'preco','preco_busca','fipe_perc',\n",
    "               'cor', 'categoria', 'transmissao','num_portas','atributos','comentario','blindado',\n",
    "               'vendedor_tipo','vendedor_cidade','vendedor_estado','tipo_anuncio',\n",
    "               'car_delivery','troca_troco']\n",
    "\n",
    "df = df[cols_select]"
   ]
  },
  {
   "cell_type": "code",
   "execution_count": 11,
   "metadata": {},
   "outputs": [
    {
     "name": "stdout",
     "output_type": "stream",
     "text": [
      "<class 'pandas.core.frame.DataFrame'>\n",
      "RangeIndex: 10008 entries, 0 to 10007\n",
      "Data columns (total 23 columns):\n",
      " #   Column           Non-Null Count  Dtype  \n",
      "---  ------           --------------  -----  \n",
      " 0   titulo_anuncio   10008 non-null  object \n",
      " 1   marca            10008 non-null  object \n",
      " 2   modelo           10008 non-null  object \n",
      " 3   versao           10008 non-null  object \n",
      " 4   ano              10008 non-null  object \n",
      " 5   ano_modelo       10008 non-null  float64\n",
      " 6   km               10008 non-null  float64\n",
      " 7   preco            10008 non-null  float64\n",
      " 8   preco_busca      10008 non-null  float64\n",
      " 9   fipe_perc        9607 non-null   float64\n",
      " 10  cor              10008 non-null  object \n",
      " 11  categoria        10008 non-null  object \n",
      " 12  transmissao      10008 non-null  object \n",
      " 13  num_portas       10008 non-null  object \n",
      " 14  atributos        9908 non-null   object \n",
      " 15  comentario       9176 non-null   object \n",
      " 16  blindado         10008 non-null  object \n",
      " 17  vendedor_tipo    10008 non-null  object \n",
      " 18  vendedor_cidade  10008 non-null  object \n",
      " 19  vendedor_estado  10008 non-null  object \n",
      " 20  tipo_anuncio     10008 non-null  object \n",
      " 21  car_delivery     10008 non-null  bool   \n",
      " 22  troca_troco      10008 non-null  bool   \n",
      "dtypes: bool(2), float64(5), object(16)\n",
      "memory usage: 1.6+ MB\n"
     ]
    }
   ],
   "source": [
    "# isso vai auxiliar na correção dos dtypes\n",
    "\n",
    "df.info()"
   ]
  },
  {
   "cell_type": "code",
   "execution_count": 12,
   "metadata": {},
   "outputs": [],
   "source": [
    "# ajustando dtypes\n",
    "\n",
    "df[\"ano\"] = df[\"ano\"].apply(lambda x: int(x))\n",
    "\n",
    "\n",
    "df[\"ano_modelo\"] = df[\"ano_modelo\"].apply(lambda x: int(x))\n",
    "\n",
    "\n",
    "df[\"num_portas\"] = df[\"num_portas\"].apply(lambda x: int(x))"
   ]
  },
  {
   "cell_type": "code",
   "execution_count": 13,
   "metadata": {},
   "outputs": [
    {
     "name": "stdout",
     "output_type": "stream",
     "text": [
      "<class 'pandas.core.frame.DataFrame'>\n",
      "RangeIndex: 10008 entries, 0 to 10007\n",
      "Data columns (total 23 columns):\n",
      " #   Column           Non-Null Count  Dtype  \n",
      "---  ------           --------------  -----  \n",
      " 0   titulo_anuncio   10008 non-null  object \n",
      " 1   marca            10008 non-null  object \n",
      " 2   modelo           10008 non-null  object \n",
      " 3   versao           10008 non-null  object \n",
      " 4   ano              10008 non-null  int64  \n",
      " 5   ano_modelo       10008 non-null  int64  \n",
      " 6   km               10008 non-null  float64\n",
      " 7   preco            10008 non-null  float64\n",
      " 8   preco_busca      10008 non-null  float64\n",
      " 9   fipe_perc        9607 non-null   float64\n",
      " 10  cor              10008 non-null  object \n",
      " 11  categoria        10008 non-null  object \n",
      " 12  transmissao      10008 non-null  object \n",
      " 13  num_portas       10008 non-null  int64  \n",
      " 14  atributos        9908 non-null   object \n",
      " 15  comentario       9176 non-null   object \n",
      " 16  blindado         10008 non-null  object \n",
      " 17  vendedor_tipo    10008 non-null  object \n",
      " 18  vendedor_cidade  10008 non-null  object \n",
      " 19  vendedor_estado  10008 non-null  object \n",
      " 20  tipo_anuncio     10008 non-null  object \n",
      " 21  car_delivery     10008 non-null  bool   \n",
      " 22  troca_troco      10008 non-null  bool   \n",
      "dtypes: bool(2), float64(4), int64(3), object(14)\n",
      "memory usage: 1.6+ MB\n"
     ]
    }
   ],
   "source": [
    "df.info()"
   ]
  },
  {
   "cell_type": "code",
   "execution_count": 14,
   "metadata": {},
   "outputs": [
    {
     "name": "stdout",
     "output_type": "stream",
     "text": [
      "\n",
      "Originalmente:\n"
     ]
    },
    {
     "data": {
      "text/plain": [
       "0    [{'Name': 'Único dono'}, {'Name': 'IPVA pago'}...\n",
       "1    [{'Name': 'Aceita troca'}, {'Name': 'Único don...\n",
       "2    [{'Name': 'Único dono'}, {'Name': 'IPVA pago'}...\n",
       "3    [{'Name': 'Aceita troca'}, {'Name': 'Único don...\n",
       "4    [{'Name': 'Todas as revisões feitas pela agend...\n",
       "Name: atributos, dtype: object"
      ]
     },
     "metadata": {},
     "output_type": "display_data"
    },
    {
     "name": "stdout",
     "output_type": "stream",
     "text": [
      "\n",
      "Depois:\n"
     ]
    },
    {
     "data": {
      "text/plain": [
       "0    Garantia de fábrica | IPVA pago | Licenciado |...\n",
       "1    Aceita troca | IPVA pago | Licenciado | Todas ...\n",
       "2                  IPVA pago | Licenciado | Único dono\n",
       "3    Aceita troca | Garantia de fábrica | Licenciad...\n",
       "4    Garantia de fábrica | Licenciado | Todas as re...\n",
       "Name: atributos, dtype: object"
      ]
     },
     "metadata": {},
     "output_type": "display_data"
    }
   ],
   "source": [
    "# processando a coluna \"atributos\", que veio como uma lista de dics\n",
    "\n",
    "print(\"\\nOriginalmente:\")\n",
    "display(df[\"atributos\"].head())\n",
    "\n",
    "df[\"atributos\"] = df[\"atributos\"].apply(lambda x: \n",
    "                                        \" | \".join(sorted([\"_\".join(list(item.values())) for item in x])) if type(x) == list\n",
    "                                        else x)\n",
    "\n",
    "print(\"\\nDepois:\")\n",
    "display(df[\"atributos\"].head())"
   ]
  },
  {
   "cell_type": "code",
   "execution_count": 15,
   "metadata": {},
   "outputs": [],
   "source": [
    "# tirando outliers absurdos (provabelmente foi erro de cadastro) quanto ao preço\n",
    "\n",
    "df = df[df[\"preco\"] < 1e8]"
   ]
  },
  {
   "cell_type": "code",
   "execution_count": 16,
   "metadata": {},
   "outputs": [
    {
     "data": {
      "text/html": [
       "<div>\n",
       "<style scoped>\n",
       "    .dataframe tbody tr th:only-of-type {\n",
       "        vertical-align: middle;\n",
       "    }\n",
       "\n",
       "    .dataframe tbody tr th {\n",
       "        vertical-align: top;\n",
       "    }\n",
       "\n",
       "    .dataframe thead th {\n",
       "        text-align: right;\n",
       "    }\n",
       "</style>\n",
       "<table border=\"1\" class=\"dataframe\">\n",
       "  <thead>\n",
       "    <tr style=\"text-align: right;\">\n",
       "      <th></th>\n",
       "      <th>titulo_anuncio</th>\n",
       "      <th>marca</th>\n",
       "      <th>modelo</th>\n",
       "      <th>versao</th>\n",
       "      <th>ano</th>\n",
       "      <th>ano_modelo</th>\n",
       "      <th>km</th>\n",
       "      <th>preco</th>\n",
       "      <th>preco_busca</th>\n",
       "      <th>fipe_perc</th>\n",
       "      <th>cor</th>\n",
       "      <th>categoria</th>\n",
       "      <th>transmissao</th>\n",
       "      <th>num_portas</th>\n",
       "      <th>atributos</th>\n",
       "      <th>comentario</th>\n",
       "      <th>blindado</th>\n",
       "      <th>vendedor_tipo</th>\n",
       "      <th>vendedor_cidade</th>\n",
       "      <th>vendedor_estado</th>\n",
       "      <th>tipo_anuncio</th>\n",
       "      <th>car_delivery</th>\n",
       "      <th>troca_troco</th>\n",
       "    </tr>\n",
       "  </thead>\n",
       "  <tbody>\n",
       "    <tr>\n",
       "      <th>0</th>\n",
       "      <td>LAND ROVER RANGE ROVER SPORT 3.0 HSE 4X4 V6 24V TURBO DIESEL 4P AUTOMÁTICO</td>\n",
       "      <td>LAND ROVER</td>\n",
       "      <td>RANGE ROVER SPORT</td>\n",
       "      <td>3.0 HSE 4X4 V6 24V TURBO DIESEL 4P AUTOMÁTICO</td>\n",
       "      <td>2014</td>\n",
       "      <td>2014</td>\n",
       "      <td>50000.00</td>\n",
       "      <td>279900.00</td>\n",
       "      <td>279900.00</td>\n",
       "      <td>123.00</td>\n",
       "      <td>Branco</td>\n",
       "      <td>Utilitário esportivo</td>\n",
       "      <td>Automatizada</td>\n",
       "      <td>4</td>\n",
       "      <td>Garantia de fábrica | IPVA pago | Licenciado | Único dono</td>\n",
       "      <td>Veículo impecável. \\n\\núnico dono.</td>\n",
       "      <td>S</td>\n",
       "      <td>PF</td>\n",
       "      <td>Santana de Parnaíba</td>\n",
       "      <td>São Paulo (SP)</td>\n",
       "      <td>Pessoa Física</td>\n",
       "      <td>False</td>\n",
       "      <td>False</td>\n",
       "    </tr>\n",
       "    <tr>\n",
       "      <th>1</th>\n",
       "      <td>JAGUAR XF 2.0 LUXURY TURBOCHARGED GASOLINA 4P AUTOMÁTICO</td>\n",
       "      <td>JAGUAR</td>\n",
       "      <td>XF</td>\n",
       "      <td>2.0 LUXURY TURBOCHARGED GASOLINA 4P AUTOMÁTICO</td>\n",
       "      <td>2014</td>\n",
       "      <td>2015</td>\n",
       "      <td>44000.00</td>\n",
       "      <td>105000.00</td>\n",
       "      <td>105000.00</td>\n",
       "      <td>87.00</td>\n",
       "      <td>Preto</td>\n",
       "      <td>Sedã</td>\n",
       "      <td>Automática</td>\n",
       "      <td>4</td>\n",
       "      <td>Aceita troca | IPVA pago | Licenciado | Todas as revisões feitas pela concessionária | Único dono</td>\n",
       "      <td>NaN</td>\n",
       "      <td>N</td>\n",
       "      <td>PF</td>\n",
       "      <td>São Paulo</td>\n",
       "      <td>São Paulo (SP)</td>\n",
       "      <td>Pessoa Física</td>\n",
       "      <td>False</td>\n",
       "      <td>False</td>\n",
       "    </tr>\n",
       "    <tr>\n",
       "      <th>2</th>\n",
       "      <td>PEUGEOT 208 1.6 GRIFFE 16V FLEX 4P AUTOMÁTICO</td>\n",
       "      <td>PEUGEOT</td>\n",
       "      <td>208</td>\n",
       "      <td>1.6 GRIFFE 16V FLEX 4P AUTOMÁTICO</td>\n",
       "      <td>2014</td>\n",
       "      <td>2014</td>\n",
       "      <td>36000.00</td>\n",
       "      <td>26000.00</td>\n",
       "      <td>26000.00</td>\n",
       "      <td>72.00</td>\n",
       "      <td>Branco</td>\n",
       "      <td>Hatchback</td>\n",
       "      <td>Automática</td>\n",
       "      <td>0</td>\n",
       "      <td>IPVA pago | Licenciado | Único dono</td>\n",
       "      <td>O valor do veículo no estado em que se encontra é de R$ 15.000,00.\\nVale a pena conhecer!!\\nFoi anunciado por R$ 26.000,00 pois o site não aceita valor menor, mas o correto é R$ 15.000,00\\n</td>\n",
       "      <td>N</td>\n",
       "      <td>PF</td>\n",
       "      <td>Campinas</td>\n",
       "      <td>São Paulo (SP)</td>\n",
       "      <td>Pessoa Física</td>\n",
       "      <td>False</td>\n",
       "      <td>False</td>\n",
       "    </tr>\n",
       "    <tr>\n",
       "      <th>3</th>\n",
       "      <td>MERCEDES-BENZ C 250 2.0 CGI SPORT TURBO 16V GASOLINA 4P AUTOMÁTICO</td>\n",
       "      <td>MERCEDES-BENZ</td>\n",
       "      <td>C 250</td>\n",
       "      <td>2.0 CGI SPORT TURBO 16V GASOLINA 4P AUTOMÁTICO</td>\n",
       "      <td>2015</td>\n",
       "      <td>2016</td>\n",
       "      <td>46210.00</td>\n",
       "      <td>149900.00</td>\n",
       "      <td>149900.00</td>\n",
       "      <td>105.00</td>\n",
       "      <td>Preto</td>\n",
       "      <td>Sedã</td>\n",
       "      <td>Automática</td>\n",
       "      <td>4</td>\n",
       "      <td>Aceita troca | Garantia de fábrica | Licenciado | Todas as revisões feitas pela concessionária | Único dono</td>\n",
       "      <td>Aceito troca, Air bag duplo, Ar condicionado digital, Chave cópia, Controle de som no volante, Direção Elétrica, Farol de LED, Trio elétrico, Unico Dono | Único dono com todas as revisões feitas em nossa concessionária, pneus novos, garantia adicional de 1 ano pelo programa Mercedes-Benz Seminovos Certified. AB Intercar Concessionário Mercedes-Benz [846426]</td>\n",
       "      <td>N</td>\n",
       "      <td>PJ</td>\n",
       "      <td>Rio de Janeiro</td>\n",
       "      <td>Rio de Janeiro (RJ)</td>\n",
       "      <td>Concessionária</td>\n",
       "      <td>True</td>\n",
       "      <td>False</td>\n",
       "    </tr>\n",
       "    <tr>\n",
       "      <th>4</th>\n",
       "      <td>CITROËN C4 LOUNGE 1.6 THP FLEX FEEL BVA</td>\n",
       "      <td>CITROËN</td>\n",
       "      <td>C4 LOUNGE</td>\n",
       "      <td>1.6 THP FLEX FEEL BVA</td>\n",
       "      <td>2018</td>\n",
       "      <td>2019</td>\n",
       "      <td>16000.00</td>\n",
       "      <td>62000.00</td>\n",
       "      <td>62000.00</td>\n",
       "      <td>79.00</td>\n",
       "      <td>Cinza</td>\n",
       "      <td>Sedã</td>\n",
       "      <td>Automática</td>\n",
       "      <td>4</td>\n",
       "      <td>Garantia de fábrica | Licenciado | Todas as revisões feitas pela agenda do carro | Todas as revisões feitas pela concessionária | Único dono</td>\n",
       "      <td>Garantia até maio 2021.\\nCouro,  câmera de ré.   sensor , protetor de porta,  insulfilm. Faturado antes de 26/07/2018, portanto liberado para venda após 2 anos.\\nEstudo propostas à vista.</td>\n",
       "      <td>N</td>\n",
       "      <td>PF</td>\n",
       "      <td>Caxambu</td>\n",
       "      <td>Minas Gerais (MG)</td>\n",
       "      <td>Pessoa Física</td>\n",
       "      <td>False</td>\n",
       "      <td>False</td>\n",
       "    </tr>\n",
       "  </tbody>\n",
       "</table>\n",
       "</div>"
      ],
      "text/plain": [
       "                                                               titulo_anuncio  \\\n",
       "0  LAND ROVER RANGE ROVER SPORT 3.0 HSE 4X4 V6 24V TURBO DIESEL 4P AUTOMÁTICO   \n",
       "1                    JAGUAR XF 2.0 LUXURY TURBOCHARGED GASOLINA 4P AUTOMÁTICO   \n",
       "2                               PEUGEOT 208 1.6 GRIFFE 16V FLEX 4P AUTOMÁTICO   \n",
       "3          MERCEDES-BENZ C 250 2.0 CGI SPORT TURBO 16V GASOLINA 4P AUTOMÁTICO   \n",
       "4                                     CITROËN C4 LOUNGE 1.6 THP FLEX FEEL BVA   \n",
       "\n",
       "           marca             modelo  \\\n",
       "0     LAND ROVER  RANGE ROVER SPORT   \n",
       "1         JAGUAR                 XF   \n",
       "2        PEUGEOT                208   \n",
       "3  MERCEDES-BENZ              C 250   \n",
       "4        CITROËN          C4 LOUNGE   \n",
       "\n",
       "                                           versao   ano  ano_modelo       km  \\\n",
       "0   3.0 HSE 4X4 V6 24V TURBO DIESEL 4P AUTOMÁTICO  2014        2014 50000.00   \n",
       "1  2.0 LUXURY TURBOCHARGED GASOLINA 4P AUTOMÁTICO  2014        2015 44000.00   \n",
       "2               1.6 GRIFFE 16V FLEX 4P AUTOMÁTICO  2014        2014 36000.00   \n",
       "3  2.0 CGI SPORT TURBO 16V GASOLINA 4P AUTOMÁTICO  2015        2016 46210.00   \n",
       "4                           1.6 THP FLEX FEEL BVA  2018        2019 16000.00   \n",
       "\n",
       "      preco  preco_busca  fipe_perc     cor             categoria  \\\n",
       "0 279900.00    279900.00     123.00  Branco  Utilitário esportivo   \n",
       "1 105000.00    105000.00      87.00   Preto                  Sedã   \n",
       "2  26000.00     26000.00      72.00  Branco             Hatchback   \n",
       "3 149900.00    149900.00     105.00   Preto                  Sedã   \n",
       "4  62000.00     62000.00      79.00   Cinza                  Sedã   \n",
       "\n",
       "    transmissao  num_portas  \\\n",
       "0  Automatizada           4   \n",
       "1    Automática           4   \n",
       "2    Automática           0   \n",
       "3    Automática           4   \n",
       "4    Automática           4   \n",
       "\n",
       "                                                                                                                                      atributos  \\\n",
       "0                                                                                     Garantia de fábrica | IPVA pago | Licenciado | Único dono   \n",
       "1                                             Aceita troca | IPVA pago | Licenciado | Todas as revisões feitas pela concessionária | Único dono   \n",
       "2                                                                                                           IPVA pago | Licenciado | Único dono   \n",
       "3                                   Aceita troca | Garantia de fábrica | Licenciado | Todas as revisões feitas pela concessionária | Único dono   \n",
       "4  Garantia de fábrica | Licenciado | Todas as revisões feitas pela agenda do carro | Todas as revisões feitas pela concessionária | Único dono   \n",
       "\n",
       "                                                                                                                                                                                                                                                                                                                                                                comentario  \\\n",
       "0                                                                                                                                                                                                                                                                                                                                       Veículo impecável. \\n\\núnico dono.   \n",
       "1                                                                                                                                                                                                                                                                                                                                                                      NaN   \n",
       "2                                                                                                                                                                            O valor do veículo no estado em que se encontra é de R$ 15.000,00.\\nVale a pena conhecer!!\\nFoi anunciado por R$ 26.000,00 pois o site não aceita valor menor, mas o correto é R$ 15.000,00\\n   \n",
       "3  Aceito troca, Air bag duplo, Ar condicionado digital, Chave cópia, Controle de som no volante, Direção Elétrica, Farol de LED, Trio elétrico, Unico Dono | Único dono com todas as revisões feitas em nossa concessionária, pneus novos, garantia adicional de 1 ano pelo programa Mercedes-Benz Seminovos Certified. AB Intercar Concessionário Mercedes-Benz [846426]   \n",
       "4                                                                                                                                                                              Garantia até maio 2021.\\nCouro,  câmera de ré.   sensor , protetor de porta,  insulfilm. Faturado antes de 26/07/2018, portanto liberado para venda após 2 anos.\\nEstudo propostas à vista.   \n",
       "\n",
       "  blindado vendedor_tipo      vendedor_cidade      vendedor_estado  \\\n",
       "0        S            PF  Santana de Parnaíba       São Paulo (SP)   \n",
       "1        N            PF            São Paulo       São Paulo (SP)   \n",
       "2        N            PF             Campinas       São Paulo (SP)   \n",
       "3        N            PJ       Rio de Janeiro  Rio de Janeiro (RJ)   \n",
       "4        N            PF              Caxambu    Minas Gerais (MG)   \n",
       "\n",
       "     tipo_anuncio  car_delivery  troca_troco  \n",
       "0   Pessoa Física         False        False  \n",
       "1   Pessoa Física         False        False  \n",
       "2   Pessoa Física         False        False  \n",
       "3  Concessionária          True        False  \n",
       "4   Pessoa Física         False        False  "
      ]
     },
     "metadata": {},
     "output_type": "display_data"
    }
   ],
   "source": [
    "show_all(df.head())"
   ]
  },
  {
   "cell_type": "markdown",
   "metadata": {},
   "source": [
    "_______\n",
    "\n",
    "### 3) Análise preliminar - marcas e modelos"
   ]
  },
  {
   "cell_type": "code",
   "execution_count": 17,
   "metadata": {},
   "outputs": [],
   "source": [
    "# dic de dfs pra cada marca\n",
    "\n",
    "marcas = df[\"marca\"].unique().tolist()\n",
    "\n",
    "df_marcas = {marca: df[df[\"marca\"] == marca] for marca in marcas}"
   ]
  },
  {
   "cell_type": "code",
   "execution_count": 18,
   "metadata": {},
   "outputs": [],
   "source": [
    "# dic com a seguinte estrutura: {\"MARCA\": {\"MODELO_i\":df_modelo_i.describe()}}\n",
    "\n",
    "modelos_describe = {marca : \n",
    "                       {modelo: df_marcas[marca][df_marcas[marca][\"modelo\"] == modelo].describe() \n",
    "                        for modelo in df_marcas[marca][\"modelo\"].unique().tolist()}\n",
    "                    for marca in marcas}"
   ]
  },
  {
   "cell_type": "code",
   "execution_count": 19,
   "metadata": {},
   "outputs": [
    {
     "name": "stdout",
     "output_type": "stream",
     "text": [
      "['LAND ROVER', 'JAGUAR', 'PEUGEOT', 'MERCEDES-BENZ', 'CITROËN', 'LIFAN', 'FIAT', 'AUDI', 'HONDA', 'HYUNDAI', 'PORSCHE', 'MITSUBISHI', 'BMW', 'FORD', 'TOYOTA', 'VOLKSWAGEN', 'CHEVROLET', 'LEXUS', 'KIA', 'JEEP', 'NISSAN', 'JAC', 'VOLVO', 'RENAULT', 'SSANGYONG', 'MINI', 'CHRYSLER', 'SUBARU', 'DODGE', 'LADA', 'GEELY', 'SUZUKI', 'CHERY', 'TROLLER', 'MASERATI', 'HUMMER', 'JINBEI', 'MCLAREN', 'FERRARI', 'TESLA', 'LAMBORGHINI', 'WILLYS OVERLAND', 'BENTLEY', 'CADILLAC', 'GURGEL', 'INFINITI', 'ALFA ROMEO', 'FOTON', 'PLYMOUTH', 'LINCOLN', 'WILLYS', 'RELY', 'SMART', 'MAZDA']\n"
     ]
    }
   ],
   "source": [
    "print(marcas)"
   ]
  },
  {
   "cell_type": "code",
   "execution_count": 20,
   "metadata": {},
   "outputs": [
    {
     "data": {
      "text/plain": [
       "dict_keys(['VECTRA', 'OMEGA', 'CRUZE', 'CAPTIVA', 'ASTRA', 'ZAFIRA', 'CORSA', 'BLAZER', 'CARAVAN', 'TRACKER', 'D20', 'ONIX', 'SPIN', 'PRISMA', 'CELTA', 'MONZA', 'COBALT', 'S10', 'CLASSIC', 'MONTANA', 'EQUINOX', 'TRAILBLAZER', 'CAMARO', 'MERIVA', 'AGILE', 'SONIC', 'HHR', 'CORVETTE', 'MALIBU', 'SUPREMA', 'OPALA', 'JOY', 'C14', 'EL CAMINO', 'CHEVETTE', 'IMPALA', 'SILVERADO'])"
      ]
     },
     "execution_count": 20,
     "metadata": {},
     "output_type": "execute_result"
    }
   ],
   "source": [
    "modelos_describe['CHEVROLET'].keys()"
   ]
  },
  {
   "cell_type": "code",
   "execution_count": 21,
   "metadata": {},
   "outputs": [
    {
     "data": {
      "text/html": [
       "<div>\n",
       "<style scoped>\n",
       "    .dataframe tbody tr th:only-of-type {\n",
       "        vertical-align: middle;\n",
       "    }\n",
       "\n",
       "    .dataframe tbody tr th {\n",
       "        vertical-align: top;\n",
       "    }\n",
       "\n",
       "    .dataframe thead th {\n",
       "        text-align: right;\n",
       "    }\n",
       "</style>\n",
       "<table border=\"1\" class=\"dataframe\">\n",
       "  <thead>\n",
       "    <tr style=\"text-align: right;\">\n",
       "      <th></th>\n",
       "      <th>ano</th>\n",
       "      <th>ano_modelo</th>\n",
       "      <th>km</th>\n",
       "      <th>preco</th>\n",
       "      <th>preco_busca</th>\n",
       "      <th>fipe_perc</th>\n",
       "      <th>num_portas</th>\n",
       "    </tr>\n",
       "  </thead>\n",
       "  <tbody>\n",
       "    <tr>\n",
       "      <th>count</th>\n",
       "      <td>45.00</td>\n",
       "      <td>45.00</td>\n",
       "      <td>45.00</td>\n",
       "      <td>45.00</td>\n",
       "      <td>45.00</td>\n",
       "      <td>42.00</td>\n",
       "      <td>45.00</td>\n",
       "    </tr>\n",
       "    <tr>\n",
       "      <th>mean</th>\n",
       "      <td>2010.49</td>\n",
       "      <td>2011.20</td>\n",
       "      <td>113021.69</td>\n",
       "      <td>24193.58</td>\n",
       "      <td>24193.58</td>\n",
       "      <td>93.86</td>\n",
       "      <td>3.69</td>\n",
       "    </tr>\n",
       "    <tr>\n",
       "      <th>std</th>\n",
       "      <td>1.59</td>\n",
       "      <td>1.67</td>\n",
       "      <td>38129.15</td>\n",
       "      <td>4128.60</td>\n",
       "      <td>4128.60</td>\n",
       "      <td>8.03</td>\n",
       "      <td>1.04</td>\n",
       "    </tr>\n",
       "    <tr>\n",
       "      <th>min</th>\n",
       "      <td>2007.00</td>\n",
       "      <td>2007.00</td>\n",
       "      <td>50000.00</td>\n",
       "      <td>18100.00</td>\n",
       "      <td>18100.00</td>\n",
       "      <td>81.00</td>\n",
       "      <td>0.00</td>\n",
       "    </tr>\n",
       "    <tr>\n",
       "      <th>25%</th>\n",
       "      <td>2009.00</td>\n",
       "      <td>2010.00</td>\n",
       "      <td>92000.00</td>\n",
       "      <td>21000.00</td>\n",
       "      <td>21000.00</td>\n",
       "      <td>89.25</td>\n",
       "      <td>4.00</td>\n",
       "    </tr>\n",
       "    <tr>\n",
       "      <th>50%</th>\n",
       "      <td>2010.00</td>\n",
       "      <td>2011.00</td>\n",
       "      <td>107000.00</td>\n",
       "      <td>23500.00</td>\n",
       "      <td>23500.00</td>\n",
       "      <td>93.00</td>\n",
       "      <td>4.00</td>\n",
       "    </tr>\n",
       "    <tr>\n",
       "      <th>75%</th>\n",
       "      <td>2011.00</td>\n",
       "      <td>2012.00</td>\n",
       "      <td>141000.00</td>\n",
       "      <td>25900.00</td>\n",
       "      <td>25900.00</td>\n",
       "      <td>97.50</td>\n",
       "      <td>4.00</td>\n",
       "    </tr>\n",
       "    <tr>\n",
       "      <th>max</th>\n",
       "      <td>2014.00</td>\n",
       "      <td>2014.00</td>\n",
       "      <td>263000.00</td>\n",
       "      <td>36800.00</td>\n",
       "      <td>36800.00</td>\n",
       "      <td>123.00</td>\n",
       "      <td>4.00</td>\n",
       "    </tr>\n",
       "  </tbody>\n",
       "</table>\n",
       "</div>"
      ],
      "text/plain": [
       "          ano  ano_modelo        km    preco  preco_busca  fipe_perc  \\\n",
       "count   45.00       45.00     45.00    45.00        45.00      42.00   \n",
       "mean  2010.49     2011.20 113021.69 24193.58     24193.58      93.86   \n",
       "std      1.59        1.67  38129.15  4128.60      4128.60       8.03   \n",
       "min   2007.00     2007.00  50000.00 18100.00     18100.00      81.00   \n",
       "25%   2009.00     2010.00  92000.00 21000.00     21000.00      89.25   \n",
       "50%   2010.00     2011.00 107000.00 23500.00     23500.00      93.00   \n",
       "75%   2011.00     2012.00 141000.00 25900.00     25900.00      97.50   \n",
       "max   2014.00     2014.00 263000.00 36800.00     36800.00     123.00   \n",
       "\n",
       "       num_portas  \n",
       "count       45.00  \n",
       "mean         3.69  \n",
       "std          1.04  \n",
       "min          0.00  \n",
       "25%          4.00  \n",
       "50%          4.00  \n",
       "75%          4.00  \n",
       "max          4.00  "
      ]
     },
     "execution_count": 21,
     "metadata": {},
     "output_type": "execute_result"
    }
   ],
   "source": [
    "modelos_describe['CITROËN']['C4']"
   ]
  },
  {
   "cell_type": "code",
   "execution_count": null,
   "metadata": {},
   "outputs": [],
   "source": []
  },
  {
   "cell_type": "code",
   "execution_count": null,
   "metadata": {},
   "outputs": [],
   "source": []
  },
  {
   "cell_type": "code",
   "execution_count": null,
   "metadata": {},
   "outputs": [],
   "source": []
  },
  {
   "cell_type": "markdown",
   "metadata": {},
   "source": [
    "______\n",
    "\n",
    "### 4) Análise por faixas"
   ]
  },
  {
   "cell_type": "code",
   "execution_count": 22,
   "metadata": {},
   "outputs": [
    {
     "data": {
      "text/html": [
       "<div>\n",
       "<style scoped>\n",
       "    .dataframe tbody tr th:only-of-type {\n",
       "        vertical-align: middle;\n",
       "    }\n",
       "\n",
       "    .dataframe tbody tr th {\n",
       "        vertical-align: top;\n",
       "    }\n",
       "\n",
       "    .dataframe thead th {\n",
       "        text-align: right;\n",
       "    }\n",
       "</style>\n",
       "<table border=\"1\" class=\"dataframe\">\n",
       "  <thead>\n",
       "    <tr style=\"text-align: right;\">\n",
       "      <th></th>\n",
       "      <th>preco</th>\n",
       "      <th>km</th>\n",
       "      <th>ano</th>\n",
       "    </tr>\n",
       "  </thead>\n",
       "  <tbody>\n",
       "    <tr>\n",
       "      <th>count</th>\n",
       "      <td>10007.00</td>\n",
       "      <td>10007.00</td>\n",
       "      <td>10007.00</td>\n",
       "    </tr>\n",
       "    <tr>\n",
       "      <th>mean</th>\n",
       "      <td>94730.33</td>\n",
       "      <td>64497.29</td>\n",
       "      <td>2014.73</td>\n",
       "    </tr>\n",
       "    <tr>\n",
       "      <th>std</th>\n",
       "      <td>156639.27</td>\n",
       "      <td>55329.91</td>\n",
       "      <td>4.81</td>\n",
       "    </tr>\n",
       "    <tr>\n",
       "      <th>min</th>\n",
       "      <td>6000.00</td>\n",
       "      <td>0.00</td>\n",
       "      <td>1951.00</td>\n",
       "    </tr>\n",
       "    <tr>\n",
       "      <th>25%</th>\n",
       "      <td>40000.00</td>\n",
       "      <td>30000.00</td>\n",
       "      <td>2012.00</td>\n",
       "    </tr>\n",
       "    <tr>\n",
       "      <th>50%</th>\n",
       "      <td>62000.00</td>\n",
       "      <td>50000.00</td>\n",
       "      <td>2016.00</td>\n",
       "    </tr>\n",
       "    <tr>\n",
       "      <th>75%</th>\n",
       "      <td>98945.00</td>\n",
       "      <td>90000.00</td>\n",
       "      <td>2018.00</td>\n",
       "    </tr>\n",
       "    <tr>\n",
       "      <th>max</th>\n",
       "      <td>4750000.00</td>\n",
       "      <td>999999.00</td>\n",
       "      <td>2021.00</td>\n",
       "    </tr>\n",
       "  </tbody>\n",
       "</table>\n",
       "</div>"
      ],
      "text/plain": [
       "           preco        km      ano\n",
       "count   10007.00  10007.00 10007.00\n",
       "mean    94730.33  64497.29  2014.73\n",
       "std    156639.27  55329.91     4.81\n",
       "min      6000.00      0.00  1951.00\n",
       "25%     40000.00  30000.00  2012.00\n",
       "50%     62000.00  50000.00  2016.00\n",
       "75%     98945.00  90000.00  2018.00\n",
       "max   4750000.00 999999.00  2021.00"
      ]
     },
     "execution_count": 22,
     "metadata": {},
     "output_type": "execute_result"
    }
   ],
   "source": [
    "# para auxiliar a definir as faixas...\n",
    "\n",
    "df[[\"preco\", \"km\", \"ano\"]].describe()"
   ]
  },
  {
   "cell_type": "code",
   "execution_count": 23,
   "metadata": {},
   "outputs": [
    {
     "data": {
      "image/png": "[encoded data removed]",
      "text/plain": [
       "<Figure size 864x432 with 1 Axes>"
      ]
     },
     "metadata": {
      "needs_background": "light"
     },
     "output_type": "display_data"
    },
    {
     "data": {
      "image/png": "[encoded data removed]",
      "text/plain": [
       "<Figure size 864x432 with 1 Axes>"
      ]
     },
     "metadata": {
      "needs_background": "light"
     },
     "output_type": "display_data"
    },
    {
     "data": {
      "image/png": "[encoded data removed]",
      "text/plain": [
       "<Figure size 864x432 with 1 Axes>"
      ]
     },
     "metadata": {
      "needs_background": "light"
     },
     "output_type": "display_data"
    }
   ],
   "source": [
    "for col in [\"preco\", \"km\", \"ano\"]:\n",
    "    \n",
    "    plt.figure(figsize=(12, 6))\n",
    "\n",
    "    plt.title(\"Distribuição - coluna \" + col , size=18)\n",
    "\n",
    "    sns.histplot(df[col], kde=True, alpha=0.2)\n",
    "\n",
    "    # plotando média\n",
    "    plt.axvline(x=df[col].mean(), color=\"red\", label=\"média\")\n",
    "\n",
    "    # plotando a mediana\n",
    "    plt.axvline(x=df[col].median(), color=\"green\", label=\"mediana\")\n",
    "\n",
    "    # plotando a(s) moda(s)\n",
    "    for i in range(df[col].mode().shape[0]):\n",
    "\n",
    "        plt.axvline(x=df[col].mode()[i], color=\"yellow\", label=\"moda\")\n",
    "\n",
    "    plt.legend()\n",
    "    plt.show()"
   ]
  },
  {
   "cell_type": "code",
   "execution_count": 24,
   "metadata": {},
   "outputs": [
    {
     "data": {
      "image/png": "[encoded data removed]",
      "text/plain": [
       "<Figure size 864x432 with 1 Axes>"
      ]
     },
     "metadata": {
      "needs_background": "light"
     },
     "output_type": "display_data"
    },
    {
     "data": {
      "image/png": "[encoded data removed]",
      "text/plain": [
       "<Figure size 864x432 with 1 Axes>"
      ]
     },
     "metadata": {
      "needs_background": "light"
     },
     "output_type": "display_data"
    }
   ],
   "source": [
    "col = \"preco\"\n",
    "\n",
    "plt.figure(figsize=(12, 6))\n",
    "\n",
    "plt.title(\"Distribuição de preços\" , size=18)\n",
    "\n",
    "sns.histplot(df[col], kde=True, alpha=0.2)\n",
    "\n",
    "# plotando média\n",
    "plt.axvline(x=df[col].mean(), color=\"red\", label=\"média\")\n",
    "\n",
    "# plotando a mediana\n",
    "plt.axvline(x=df[col].median(), color=\"green\", label=\"mediana\")\n",
    "\n",
    "# plotando a(s) moda(s)\n",
    "for i in range(df[col].mode().shape[0]):\n",
    "\n",
    "    plt.axvline(x=df[col].mode()[i], color=\"yellow\", label=\"moda\")\n",
    "\n",
    "plt.legend()\n",
    "plt.show()\n",
    "\n",
    "############################################\n",
    "\n",
    "plt.figure(figsize=(12, 6))\n",
    "\n",
    "plt.title(\"Distribuição de log10-preços\" , size=18)\n",
    "\n",
    "sns.histplot(np.log10(df[col]), kde=True, alpha=0.2)\n",
    "\n",
    "# plotando média\n",
    "plt.axvline(x=np.log10(df[col]).mean(), color=\"red\", label=\"média\")\n",
    "\n",
    "# plotando a mediana\n",
    "plt.axvline(x=np.log10(df[col]).median(), color=\"green\", label=\"mediana\")\n",
    "\n",
    "# plotando a(s) moda(s)\n",
    "for i in range(np.log10(df[col]).mode().shape[0]):\n",
    "\n",
    "    plt.axvline(x=np.log10(df[col]).mode()[i], color=\"yellow\", label=\"moda\")\n",
    "\n",
    "plt.legend()\n",
    "plt.show()"
   ]
  },
  {
   "cell_type": "markdown",
   "metadata": {},
   "source": [
    "____\n",
    "____\n",
    "____\n",
    "____\n",
    "____\n",
    "____\n",
    "____\n",
    "____\n",
    "____\n",
    "____\n",
    "____\n",
    "____\n",
    "____\n",
    "____\n",
    "____\n",
    "____"
   ]
  },
  {
   "cell_type": "code",
   "execution_count": null,
   "metadata": {},
   "outputs": [],
   "source": []
  },
  {
   "cell_type": "code",
   "execution_count": null,
   "metadata": {},
   "outputs": [],
   "source": []
  },
  {
   "cell_type": "code",
   "execution_count": null,
   "metadata": {},
   "outputs": [],
   "source": []
  },
  {
   "cell_type": "code",
   "execution_count": null,
   "metadata": {},
   "outputs": [],
   "source": []
  },
  {
   "cell_type": "code",
   "execution_count": null,
   "metadata": {},
   "outputs": [],
   "source": []
  },
  {
   "cell_type": "code",
   "execution_count": null,
   "metadata": {},
   "outputs": [],
   "source": [
    "assert(False)"
   ]
  },
  {
   "cell_type": "code",
   "execution_count": null,
   "metadata": {},
   "outputs": [],
   "source": [
    "df[\"ano_fabricação\"] = df[\"ano_fabricação\"].apply(lambda x: int(x))\n",
    "\n",
    "# claramente um outlier...\n",
    "df = df[df[\"preço\"] < 1e8]\n",
    "\n",
    "sns.jointplot(data=df, x=\"ano_fabricação\", y=\"preço\")"
   ]
  },
  {
   "cell_type": "code",
   "execution_count": null,
   "metadata": {},
   "outputs": [],
   "source": [
    "sns.jointplot(data=df, x=\"km\", y=\"preço\")"
   ]
  },
  {
   "cell_type": "code",
   "execution_count": null,
   "metadata": {},
   "outputs": [],
   "source": [
    "plt.figure(figsize=(15, 12))\n",
    "\n",
    "sns.jointplot(data=df[df[\"marca\"].isin([\"CHEVROLET\", \"VOLKSWAGEN\"])], x=\"km\", y=\"preço\", hue=\"marca\")\n",
    "\n",
    "plt.show()"
   ]
  },
  {
   "cell_type": "code",
   "execution_count": null,
   "metadata": {},
   "outputs": [],
   "source": []
  },
  {
   "cell_type": "code",
   "execution_count": null,
   "metadata": {},
   "outputs": [],
   "source": [
    "df[df[\"preço\"] != df[\"preço_busca\"]]"
   ]
  },
  {
   "cell_type": "code",
   "execution_count": null,
   "metadata": {},
   "outputs": [],
   "source": [
    "df.groupby([\"marca\", \"modelo\"])[[\"modelo\"]].count()"
   ]
  },
  {
   "cell_type": "code",
   "execution_count": null,
   "metadata": {},
   "outputs": [],
   "source": [
    "aux = df.groupby([\"marca\", \"modelo\", \"ano_fabricação\"])[[\"ano_fabricação\"]].count()"
   ]
  },
  {
   "cell_type": "code",
   "execution_count": null,
   "metadata": {},
   "outputs": [],
   "source": [
    "aux.loc[['HONDA']]"
   ]
  }
 ],
 "metadata": {
  "kernelspec": {
   "display_name": "Python 3",
   "language": "python",
   "name": "python3"
  },
  "language_info": {
   "codemirror_mode": {
    "name": "ipython",
    "version": 3
   },
   "file_extension": ".py",
   "mimetype": "text/x-python",
   "name": "python",
   "nbconvert_exporter": "python",
   "pygments_lexer": "ipython3",
   "version": "3.8.5"
  }
 },
 "nbformat": 4,
 "nbformat_minor": 4
}
