{
 "cells": [
  {
   "cell_type": "markdown",
   "metadata": {},
   "source": [
    "# Construção da base a partir do JSON\n",
    "\n",
    "________\n",
    "_______\n",
    "_______"
   ]
  },
  {
   "cell_type": "code",
   "execution_count": null,
   "metadata": {
    "ExecuteTime": {
     "end_time": "2021-04-03T04:03:42.973695Z",
     "start_time": "2021-04-03T04:03:42.970065Z"
    }
   },
   "outputs": [],
   "source": [
    "import numpy as np\n",
    "import pandas as pd\n",
    "import json\n",
    "import re\n",
    "\n",
    "import matplotlib.pyplot as plt\n",
    "import seaborn as sns\n",
    "\n",
    "pd.options.display.float_format = \"{:.2f}\".format"
   ]
  },
  {
   "cell_type": "code",
   "execution_count": null,
   "metadata": {
    "ExecuteTime": {
     "end_time": "2021-04-03T04:03:43.034954Z",
     "start_time": "2021-04-03T04:03:42.979896Z"
    }
   },
   "outputs": [],
   "source": [
    "# função de processamento de texto\n",
    "\n",
    "from unicodedata import normalize\n",
    "\n",
    "def tira_acento(x):\n",
    "    \n",
    "    return normalize('NFKD', x).encode('ASCII','ignore').decode('ASCII')"
   ]
  },
  {
   "cell_type": "code",
   "execution_count": null,
   "metadata": {
    "ExecuteTime": {
     "end_time": "2021-04-03T04:03:43.094294Z",
     "start_time": "2021-04-03T04:03:43.036983Z"
    }
   },
   "outputs": [],
   "source": [
    "# função de exibição \n",
    "\n",
    "def show_all(df):\n",
    "    \n",
    "    pd.set_option('display.max_colwidth', None)\n",
    "    pd.set_option('display.max_columns', None)\n",
    "    pd.set_option('display.max_columns', None)\n",
    "    \n",
    "    display(df)\n",
    "    \n",
    "    pd.reset_option('display.max_colwidth')\n",
    "    pd.reset_option('display.max_columns')\n",
    "    pd.reset_option('display.max_columns')\n",
    "    "
   ]
  },
  {
   "cell_type": "markdown",
   "metadata": {},
   "source": [
    "______\n",
    "\n",
    "### 1) Leitura dos dados"
   ]
  },
  {
   "cell_type": "code",
   "execution_count": null,
   "metadata": {
    "ExecuteTime": {
     "end_time": "2021-04-03T04:03:48.388737Z",
     "start_time": "2021-04-03T04:03:43.096638Z"
    }
   },
   "outputs": [],
   "source": [
    "from os import listdir\n",
    "from os.path import isfile, join\n",
    "import time\n",
    "\n",
    "path = \"../data/\"\n",
    "\n",
    "print(\"\\nLista de arquivos disponíveis para a leitura:\\n\")\n",
    "\n",
    "file_list = [str(i) + \" - \" + f for i, f in enumerate(listdir(path)) if isfile(join(path, f))]\n",
    "\n",
    "print(*file_list, sep=\"\\n\")\n",
    "\n",
    "time.sleep(0.5)\n",
    "\n",
    "num = int(input(\"\\nDigite o número correspondente ao arquivo desejado: (0-\" + str(len(file_list)) + \"): \"))\n",
    "\n",
    "file_path = path + file_list[num].split(\" - \")[-1]\n",
    "\n",
    "file_path"
   ]
  },
  {
   "cell_type": "code",
   "execution_count": null,
   "metadata": {
    "ExecuteTime": {
     "end_time": "2021-04-03T04:04:09.885688Z",
     "start_time": "2021-04-03T04:03:48.390879Z"
    }
   },
   "outputs": [],
   "source": [
    "# lê o arquivo e cria lista com json de cada carro\n",
    "\n",
    "with open(file_path) as f:\n",
    "    \n",
    "    json_list = json.load(f)"
   ]
  },
  {
   "cell_type": "code",
   "execution_count": null,
   "metadata": {
    "ExecuteTime": {
     "end_time": "2021-04-03T04:04:11.296053Z",
     "start_time": "2021-04-03T04:04:10.270597Z"
    }
   },
   "outputs": [],
   "source": [
    "# identificando quais chaves têm listas como valores\n",
    "# nestes casos, o json_normaliza falha, por isso é importante identificarmos\n",
    "# antes pra fazer o flatenning\n",
    "\n",
    "list_values = []\n",
    "for item in json_list:\n",
    "    \n",
    "    for key in item.keys():\n",
    "\n",
    "        if type(item[key]) == list:\n",
    "\n",
    "            # print(key, item[key])\n",
    "            \n",
    "            if key not in list_values:\n",
    "                \n",
    "                list_values.append(key)\n",
    "                \n",
    "if len(list_values) > 0:\n",
    "    \n",
    "    print(\"\\nHá jsons com chaves cujos valores são listas!!\")\n",
    "    print(\"Estas chaves são:\")\n",
    "    print(list_values)\n",
    "          \n",
    "    print(\"\\nVamos corrigir isso agora!\")\n",
    "    \n",
    "    # fazendo o flattening dos valores que são listas\n",
    "\n",
    "    for item in json_list:\n",
    "\n",
    "        for key in list_values:\n",
    "\n",
    "            try:\n",
    "                for i in range(len(item[key])):\n",
    "\n",
    "                    item[key + \"_\" + str(i+1)] = item[key][i]\n",
    "\n",
    "                item.pop(key)\n",
    "\n",
    "            except:\n",
    "\n",
    "                pass\n",
    "    \n",
    "    print(\"\\nTudo corrigido! Podemos seguir com a construção do df!\")\n",
    "    \n",
    "# se não tiver nenhuma chave com essa característíca, ótimo!\n",
    "else:\n",
    "    \n",
    "    print(\"\\nNão há problemas com json algum, tudo certo!\")\n",
    "    print(\"\\nPodemos seguir diretamente com a construlção do df!\")"
   ]
  },
  {
   "cell_type": "code",
   "execution_count": null,
   "metadata": {
    "ExecuteTime": {
     "end_time": "2021-04-03T04:04:44.018919Z",
     "start_time": "2021-04-03T04:04:11.297592Z"
    }
   },
   "outputs": [],
   "source": [
    "# montando o df\n",
    "\n",
    "df = pd.json_normalize(json_list)"
   ]
  },
  {
   "cell_type": "code",
   "execution_count": null,
   "metadata": {
    "ExecuteTime": {
     "end_time": "2021-04-03T04:04:44.053125Z",
     "start_time": "2021-04-03T04:03:43.004Z"
    }
   },
   "outputs": [],
   "source": [
    "df.shape"
   ]
  },
  {
   "cell_type": "code",
   "execution_count": null,
   "metadata": {
    "ExecuteTime": {
     "end_time": "2021-04-03T04:04:44.054473Z",
     "start_time": "2021-04-03T04:03:43.007Z"
    },
    "scrolled": true
   },
   "outputs": [],
   "source": [
    "df.columns.tolist()"
   ]
  },
  {
   "cell_type": "code",
   "execution_count": null,
   "metadata": {
    "ExecuteTime": {
     "end_time": "2021-04-03T04:04:44.055738Z",
     "start_time": "2021-04-03T04:03:43.012Z"
    },
    "scrolled": true
   },
   "outputs": [],
   "source": [
    "show_all(df.head(3))"
   ]
  },
  {
   "cell_type": "code",
   "execution_count": null,
   "metadata": {
    "ExecuteTime": {
     "end_time": "2021-04-03T04:04:44.057084Z",
     "start_time": "2021-04-03T04:03:43.016Z"
    }
   },
   "outputs": [],
   "source": [
    "df.info()"
   ]
  },
  {
   "cell_type": "code",
   "execution_count": null,
   "metadata": {
    "ExecuteTime": {
     "end_time": "2021-04-03T04:04:44.058263Z",
     "start_time": "2021-04-03T04:03:43.021Z"
    },
    "scrolled": false
   },
   "outputs": [],
   "source": [
    "print(\"\\nColunas com dados missing em respectiva proporção:\")\n",
    "\n",
    "# colunas com dados missing, apenas\n",
    "# contagem já normalizada\n",
    "missing = df.isnull().sum()[df.isnull().sum().apply(lambda x: True if x!=0 else False)]/df.shape[0]\n",
    "\n",
    "# print formatado\n",
    "missing.apply(lambda x: \"{:.2f}%\".format(x*100))"
   ]
  },
  {
   "cell_type": "markdown",
   "metadata": {},
   "source": [
    "_______\n",
    "\n",
    "### 2) Pré-processamento"
   ]
  },
  {
   "cell_type": "code",
   "execution_count": null,
   "metadata": {
    "ExecuteTime": {
     "end_time": "2021-04-03T04:04:44.059436Z",
     "start_time": "2021-04-03T04:03:43.026Z"
    },
    "scrolled": true
   },
   "outputs": [],
   "source": [
    "# caso queira evitar que alguma coluna seja dropada\n",
    "\n",
    "keep = []"
   ]
  },
  {
   "cell_type": "code",
   "execution_count": null,
   "metadata": {
    "ExecuteTime": {
     "end_time": "2021-04-03T04:04:44.060653Z",
     "start_time": "2021-04-03T04:03:43.029Z"
    }
   },
   "outputs": [],
   "source": [
    "# vamos dropar as colunas que tenham mais que 50% de NaNs\n",
    "\n",
    "threshold_drop = 0.5\n",
    "\n",
    "print(\"\\nColunas com proporção de NaNs maior que o threshold de {:.0f}%:\\n\".format(threshold_drop*100))\n",
    "\n",
    "display(missing[missing>threshold_drop].apply(lambda x: \"{:.2f}%\".format(x*100)))\n",
    "\n",
    "drop_nans = missing[missing>threshold_drop].index.tolist()\n",
    "\n",
    "# evitando que colunas em \"keep\" sejam dropadas\n",
    "drop_nans = [x for x in drop_nans if x not in keep]\n",
    "\n",
    "# dropando!\n",
    "df = df.drop(columns=drop_nans)\n",
    "\n",
    "print(\"\\nColunas acima dropadas com sucesso!\")"
   ]
  },
  {
   "cell_type": "code",
   "execution_count": null,
   "metadata": {
    "ExecuteTime": {
     "end_time": "2021-04-03T04:04:44.061846Z",
     "start_time": "2021-04-03T04:03:43.032Z"
    },
    "scrolled": true
   },
   "outputs": [],
   "source": [
    "# for item in df.columns.tolist():\n",
    "    \n",
    "#     print(f'\"{item}\" : \"{item}\",')"
   ]
  },
  {
   "cell_type": "code",
   "execution_count": null,
   "metadata": {
    "ExecuteTime": {
     "end_time": "2021-04-03T04:04:44.063114Z",
     "start_time": "2021-04-03T04:03:43.036Z"
    }
   },
   "outputs": [],
   "source": [
    "# renomeando colunas\n",
    "\n",
    "rename_dic = {  \"LongComment\" : \"comentario\",\n",
    "                \"FipePercent\" : \"fipe_perc\",\n",
    "                \"unico_dono\" : \"unico_dono\",\n",
    "                \"ipva_pago\" : \"ipva_pago\",\n",
    "                \"aceita_troca\" : \"aceita_troca\",\n",
    "                \"financiado\" : \"financiado\",\n",
    "                \"licenciado\" : \"licenciado\",\n",
    "                \"contains_leilao\" : \"contains_leilao\",\n",
    "                \"Specification.Title\" : \"titulo\",\n",
    "                \"Specification.Make.Value\" : \"marca\",\n",
    "                \"Specification.Model.Value\" : \"modelo\",\n",
    "                \"Specification.Version.Value\" : \"versao\",\n",
    "                \"Specification.YearFabrication\" : \"ano\",\n",
    "                \"Specification.YearModel\" : \"ano_modelo\",\n",
    "                \"Specification.Odometer\" : \"km\",\n",
    "                \"Specification.Transmission\" : \"transmissao\",\n",
    "                \"Specification.NumberPorts\" : \"num_portas\",\n",
    "                \"Specification.BodyType\" : \"categoria\",\n",
    "                \"Specification.Armored\" : \"blindado\",\n",
    "                \"Specification.Color.Primary\" : \"cor\",\n",
    "                \"Seller.SellerType\" : \"vendedor_tipo\",\n",
    "                \"Seller.City\" : \"vendedor_cidade\",\n",
    "                \"Seller.State\" : \"vendedor_estado\",\n",
    "                \"Seller.DealerScore\" : \"score_vendedor\",\n",
    "                \"Seller.CarDelivery\" : \"car_delivery\",\n",
    "                \"Seller.TrocaComTroco\" : \"troca_troco\",\n",
    "                \"Seller.ExceededPlan\" : \"exceeded_plan\",\n",
    "                \"Prices.Price\" : \"preco\",\n",
    "                \"Prices.SearchPrice\" : \"preco_busca\"}\n",
    "\n",
    "df = df.rename(columns=rename_dic)\n",
    "\n",
    "# determinando a orderm\n",
    "\n",
    "cols_select = [ # atributos gerais\n",
    "               'titulo', 'marca', 'modelo', 'versao', \n",
    "               'ano', 'ano_modelo', \n",
    "               'km', 'transmissao', 'num_portas',\n",
    "               'categoria', 'blindado', 'cor',\n",
    "                # preço\n",
    "               'preco', 'preco_busca', 'fipe_perc', \n",
    "                # flags binarias\n",
    "               'unico_dono', 'ipva_pago', 'aceita_troca', 'financiado', 'licenciado', 'contains_leilao',\n",
    "                # info vendedor\n",
    "               'vendedor_tipo', 'vendedor_cidade', 'vendedor_estado', 'score_vendedor',\n",
    "                # extras\n",
    "               'car_delivery', 'troca_troco', 'comentario',\n",
    "                # 'exceeded_plan'\n",
    "                ]\n",
    "\n",
    "df = df[cols_select]"
   ]
  },
  {
   "cell_type": "code",
   "execution_count": null,
   "metadata": {
    "ExecuteTime": {
     "end_time": "2021-04-03T04:04:44.064435Z",
     "start_time": "2021-04-03T04:03:43.039Z"
    },
    "scrolled": true
   },
   "outputs": [],
   "source": [
    "show_all(df.head(3))"
   ]
  },
  {
   "cell_type": "code",
   "execution_count": null,
   "metadata": {
    "ExecuteTime": {
     "end_time": "2021-04-03T04:04:44.065373Z",
     "start_time": "2021-04-03T04:03:43.043Z"
    }
   },
   "outputs": [],
   "source": [
    "# isso vai auxiliar na correção dos dtypes\n",
    "\n",
    "df.info()"
   ]
  },
  {
   "cell_type": "code",
   "execution_count": null,
   "metadata": {
    "ExecuteTime": {
     "end_time": "2021-04-03T04:04:44.066385Z",
     "start_time": "2021-04-03T04:03:43.046Z"
    }
   },
   "outputs": [],
   "source": [
    "# ajustando dtypes\n",
    "\n",
    "df[\"ano\"] = df[\"ano\"].astype(int)\n",
    "\n",
    "df[\"ano_modelo\"] = df[\"ano_modelo\"].astype(int)\n",
    "\n",
    "df[\"num_portas\"] = df[\"num_portas\"].astype(int)"
   ]
  },
  {
   "cell_type": "code",
   "execution_count": null,
   "metadata": {
    "ExecuteTime": {
     "end_time": "2021-04-03T04:04:44.067521Z",
     "start_time": "2021-04-03T04:03:43.049Z"
    }
   },
   "outputs": [],
   "source": [
    "df.info()"
   ]
  },
  {
   "cell_type": "code",
   "execution_count": null,
   "metadata": {
    "ExecuteTime": {
     "end_time": "2021-04-03T04:04:44.068493Z",
     "start_time": "2021-04-03T04:03:43.052Z"
    }
   },
   "outputs": [],
   "source": [
    "# avaliando ststs descritivas procurando outliers absurdos\n",
    "\n",
    "df.describe()"
   ]
  },
  {
   "cell_type": "markdown",
   "metadata": {},
   "source": [
    "_______\n",
    "\n",
    "### 3) Feature engineering"
   ]
  },
  {
   "cell_type": "code",
   "execution_count": null,
   "metadata": {
    "ExecuteTime": {
     "end_time": "2021-04-03T04:04:44.069631Z",
     "start_time": "2021-04-03T04:03:43.056Z"
    },
    "scrolled": true
   },
   "outputs": [],
   "source": [
    "# pegando cilindradas (1.0, 1.6, etc) a partir da coluna \"versão\" (proxy)\n",
    "\n",
    "# obs: \"Todo carro é movido por um motor à combustão, a diferença de um motor \n",
    "# para o outro é quantidade de cilindradas. \n",
    "# Quando falamos que um carro é 2.0, isso quer dizer que ele tem 2000 cilindradas. \n",
    "# O mesmo acontece com o 1.0 (1000 cc), 1.4 (1400), 1.6 (1.600) e 1.8 (1800).\" \n",
    "\n",
    "df[\"cilindrada\"] = df[\"versao\"].apply(lambda x: \n",
    "                                       re.findall(\"\\d+\\.\\d+\", x)).apply(lambda x: \n",
    "                                                                        x[0] if len(x) == 1 else np.nan)\n",
    "\n",
    "###############################################################\n",
    "\n",
    "df[\"cilindrada\"].value_counts(dropna=False)"
   ]
  },
  {
   "cell_type": "code",
   "execution_count": null,
   "metadata": {
    "ExecuteTime": {
     "end_time": "2021-04-03T04:04:44.070675Z",
     "start_time": "2021-04-03T04:03:43.058Z"
    }
   },
   "outputs": [],
   "source": [
    "# pegando o tipo de combustível do carro a partir da coluna \"versão\" (proxy)\n",
    "\n",
    "def tipo_combustivel(x):\n",
    "\n",
    "    ans = \"OUTRO\"\n",
    "    \n",
    "    for s in [\"GASOLINA\", \"ALCOOL\",\"DIESEL\", \"FLEX\", \"HIBRIDO\", \"HYBRID\"]: \n",
    "\n",
    "        if s in tira_acento(x).upper(): \n",
    "\n",
    "            ans = s\n",
    "    \n",
    "    return ans\n",
    "        \n",
    "df[\"combustivel\"] = df[\"versao\"].apply(tipo_combustivel)\n",
    "\n",
    "###############################################################\n",
    "\n",
    "df[\"combustivel\"].value_counts()"
   ]
  },
  {
   "cell_type": "markdown",
   "metadata": {},
   "source": [
    "_______\n",
    "\n",
    "### 4) Análise preliminar - marcas e modelos"
   ]
  },
  {
   "cell_type": "code",
   "execution_count": null,
   "metadata": {
    "ExecuteTime": {
     "end_time": "2021-04-03T04:04:44.071729Z",
     "start_time": "2021-04-03T04:03:43.062Z"
    }
   },
   "outputs": [],
   "source": [
    "# dic de dfs pra cada marca\n",
    "# estrutura: {\"marca\" : df_com_marca_filtrada}\n",
    "\n",
    "marcas = df[\"marca\"].unique().tolist()\n",
    "\n",
    "df_marcas = {marca: df[df[\"marca\"] == marca] for marca in marcas}"
   ]
  },
  {
   "cell_type": "code",
   "execution_count": null,
   "metadata": {
    "ExecuteTime": {
     "end_time": "2021-04-03T04:04:44.073008Z",
     "start_time": "2021-04-03T04:03:43.064Z"
    }
   },
   "outputs": [],
   "source": [
    "# dic com a seguinte estrutura: {\"marca\": {\"modelo_i\" : df_modelo_i.describe()}}\n",
    "\n",
    "# essa célula pode demorar um pouquinho...\n",
    "\n",
    "modelos_describe = {marca : \n",
    "                           {modelo: df_marcas[marca].loc[df_marcas[marca][\"modelo\"] == modelo].describe() \n",
    "                            for modelo in df_marcas[marca][\"modelo\"].unique().tolist()}\n",
    "                    for marca in marcas}"
   ]
  },
  {
   "cell_type": "code",
   "execution_count": null,
   "metadata": {
    "ExecuteTime": {
     "end_time": "2021-04-03T04:04:44.074280Z",
     "start_time": "2021-04-03T04:03:43.068Z"
    }
   },
   "outputs": [],
   "source": [
    "print(\"\\nMarcas disponíveis:\\n\")\n",
    "\n",
    "print(list(modelos_describe.keys()))"
   ]
  },
  {
   "cell_type": "code",
   "execution_count": null,
   "metadata": {
    "ExecuteTime": {
     "end_time": "2021-04-03T04:04:44.075245Z",
     "start_time": "2021-04-03T04:03:43.071Z"
    }
   },
   "outputs": [],
   "source": [
    "# pegando modelos de determinada marca \n",
    "\n",
    "print(list(modelos_describe[\"HYUNDAI\"].keys()))"
   ]
  },
  {
   "cell_type": "code",
   "execution_count": null,
   "metadata": {
    "ExecuteTime": {
     "end_time": "2021-04-03T04:04:44.076324Z",
     "start_time": "2021-04-03T04:03:43.075Z"
    }
   },
   "outputs": [],
   "source": [
    "# pegando stats de determinado modelo\n",
    "\n",
    "modelos_describe[\"HYUNDAI\"]['HB20']"
   ]
  },
  {
   "cell_type": "code",
   "execution_count": null,
   "metadata": {
    "ExecuteTime": {
     "end_time": "2021-04-03T04:04:44.077462Z",
     "start_time": "2021-04-03T04:03:43.077Z"
    }
   },
   "outputs": [],
   "source": [
    "# groupby - {marca: {modelo_i :  groupby_i(ano, cilindrada, combustivel)}}\n",
    "# esse tbm demora um pouco\n",
    "\n",
    "marca_modelo_ano = {marca : \n",
    "                        {modelo: \n",
    "                                 df_marcas[marca][df_marcas[marca][\"modelo\"] == modelo].groupby([\"ano\",\n",
    "                                                                                                \"cilindrada\",\n",
    "                                                                                                \"combustivel\"])[[\"km\",\n",
    "                                                                                                                 \"preco\",\n",
    "                                                                                                                 \"fipe_perc\"]].agg([\"count\", \n",
    "                                                                                                                                    \"mean\",\n",
    "                                                                                                                                    \"min\",\n",
    "                                                                                                                                    \"max\",\n",
    "                                                                                                                                    np.median]) \n",
    "                        for modelo in df_marcas[marca][\"modelo\"].unique().tolist()}\n",
    "                    for marca in marcas}"
   ]
  },
  {
   "cell_type": "code",
   "execution_count": null,
   "metadata": {
    "ExecuteTime": {
     "end_time": "2021-04-03T04:04:44.078754Z",
     "start_time": "2021-04-03T04:03:43.083Z"
    },
    "scrolled": false
   },
   "outputs": [],
   "source": [
    "marca_modelo_ano[\"HYUNDAI\"]['HB20']"
   ]
  },
  {
   "cell_type": "markdown",
   "metadata": {},
   "source": [
    "______\n",
    "\n",
    "__Vamos pegar as N marcas mais comuns (em termos de count de carros)__\n",
    "\n",
    "Destas, vamos rodar o DBSCAN pra cada modelo. Com isso, encontraremos outliers."
   ]
  },
  {
   "cell_type": "code",
   "execution_count": null,
   "metadata": {
    "ExecuteTime": {
     "end_time": "2021-04-03T04:04:44.079970Z",
     "start_time": "2021-04-03T04:03:43.087Z"
    }
   },
   "outputs": [],
   "source": [
    "# top N\n",
    "\n",
    "N = 10\n",
    "\n",
    "topN = df[\"marca\"].value_counts().iloc[:N].index\n",
    "\n",
    "topN"
   ]
  },
  {
   "cell_type": "code",
   "execution_count": null,
   "metadata": {
    "ExecuteTime": {
     "end_time": "2021-04-03T04:04:44.081675Z",
     "start_time": "2021-04-03T04:03:43.112Z"
    },
    "scrolled": true
   },
   "outputs": [],
   "source": [
    "from sklearn.cluster import DBSCAN\n",
    "from sklearn.preprocessing import StandardScaler\n",
    "\n",
    "topN_dict = {}\n",
    "\n",
    "for marca in topN:\n",
    "    \n",
    "    topN_dict[marca] = {}\n",
    "    \n",
    "    print(\"\\n#############################################################\")\n",
    "    print(\"#############################################################\")\n",
    "    print(\"~~~~~~\\tMarca:\", marca)\n",
    "    print(\"#############################################################\")\n",
    "    print(\"#############################################################\\n\")\n",
    "    \n",
    "    aux = df_marcas[marca]\n",
    "    \n",
    "    for modelo in aux[\"modelo\"].unique():\n",
    "\n",
    "        aux2 = aux[aux[\"modelo\"] == modelo].copy()\n",
    "        \n",
    "        # apenas se tiver mais que um exemplar do modelo na base\n",
    "        if aux2.shape[0] > 1:\n",
    "            \n",
    "            print(\"\\nMODELO:\", modelo)\n",
    "            \n",
    "            #################################################################################\n",
    "#             # visualizando preço vs km com hue de ano\n",
    "#             f = sns.scatterplot(data=aux2, y=\"preco\", x=\"km\", \n",
    "#                                 hue=\"ano\", palette=\"rainbow\")\n",
    "\n",
    "#             ax = plt.gca()\n",
    "#             ax.set_title(modelo)\n",
    "\n",
    "#             plt.show()\n",
    "            #################################################################################\n",
    "            \n",
    "            # clustering\n",
    "            \n",
    "            # selecionando features - apenas numeric & bool\n",
    "            X = aux2.select_dtypes(include=[np.number, np.bool]).copy()\n",
    "            \n",
    "            # selecionando apenas algumas cols - sempre inclua preco!\n",
    "            cols_features = [\"preco\", \"km\"]\n",
    "            X = aux2[cols_features]\n",
    "            \n",
    "            # preenchendo NaNs\n",
    "            cols_with_nan = X.isnull().any(axis=0)[X.isnull().any(axis=0) == True].index\n",
    "\n",
    "            for col in cols_with_nan:\n",
    "\n",
    "                # definindo os atributos pro cruzamento\n",
    "                cols = ['transmissao', 'categoria', 'blindado', 'cilindrada', 'combustivel']\n",
    "\n",
    "                # fazendo o agrupamento\n",
    "                media_col = aux2.groupby(cols)[[col]].mean().reset_index()\n",
    "\n",
    "                # sub-base com valores missing de \"col\", e apenas as colunas de cruzamento\n",
    "                X_col_missing = aux2.loc[X[col].isnull()][cols]\n",
    "\n",
    "                # fazendo o cruzamento\n",
    "                valores_a_preencher = X_col_missing.merge(media_col, \n",
    "                                                          on=cols, \n",
    "                                                          how=\"left\").set_index(X_col_missing.index)[col]\n",
    "\n",
    "                # preenchendo vazio com as médias\n",
    "                X.loc[df[col].isnull(), col] = valores_a_preencher\n",
    "            \n",
    "            # normalização\n",
    "            X = pd.DataFrame(StandardScaler().fit_transform(X), columns = X.columns, index= X.index)\n",
    "            \n",
    "            #################################################################################\n",
    "#             # visualizando a normalização\n",
    "#             f = sns.scatterplot(data=X, y=\"preco\", x=\"km\", palette=\"rainbow\")\n",
    "\n",
    "#             ax = plt.gca()\n",
    "#             ax.set_title(modelo)\n",
    "\n",
    "#             plt.show()\n",
    "            #################################################################################\n",
    "    \n",
    "            # modelagem\n",
    "            db = DBSCAN(eps=0.5, min_samples=2, metric=\"euclidean\").fit(X)\n",
    "            \n",
    "            # cluster labels\n",
    "            aux2[\"cluster\"] = db.labels_\n",
    "            \n",
    "            #################################################################################\n",
    "            # visualizando preço vs km com hue de cluster\n",
    "            f = sns.scatterplot(data=aux2, y=\"preco\", x=\"km\", \n",
    "                                hue=\"cluster\", palette=\"rainbow\")\n",
    "\n",
    "            ax = plt.gca()\n",
    "            ax.set_title(modelo)\n",
    "\n",
    "            plt.show()\n",
    "            #################################################################################\n",
    "            \n",
    "            # atualiza o dict com o aux2\n",
    "            topN_dict[marca][modelo] = aux2\n",
    "\n",
    "            \n",
    "        else:\n",
    "            \n",
    "            print(\"\\nHá apenas um exemplar do modelo:\", modelo)\n",
    "            print(\"Portanto, não é possível estudá-lo estatisticamente.\")\n",
    "            \n",
    "        \n",
    "#         display(aux2)\n",
    "        \n",
    "    \n",
    "# del aux, aux2"
   ]
  },
  {
   "cell_type": "code",
   "execution_count": null,
   "metadata": {
    "ExecuteTime": {
     "end_time": "2021-04-03T04:04:44.082670Z",
     "start_time": "2021-04-03T04:03:43.116Z"
    }
   },
   "outputs": [],
   "source": [
    "topN_dict.keys()"
   ]
  },
  {
   "cell_type": "code",
   "execution_count": null,
   "metadata": {
    "ExecuteTime": {
     "end_time": "2021-04-03T04:04:44.083697Z",
     "start_time": "2021-04-03T04:03:43.119Z"
    }
   },
   "outputs": [],
   "source": [
    "topN_dict['HYUNDAI'].keys()"
   ]
  },
  {
   "cell_type": "code",
   "execution_count": null,
   "metadata": {
    "ExecuteTime": {
     "end_time": "2021-04-03T04:04:44.084763Z",
     "start_time": "2021-04-03T04:03:43.123Z"
    },
    "scrolled": false
   },
   "outputs": [],
   "source": [
    "marca = 'HYUNDAI'\n",
    "modelo = \"HB20\"\n",
    "\n",
    "aux = topN_dict[marca][modelo]\n",
    "\n",
    "display(aux[aux[\"cluster\"] == -1][[\"marca\", \"modelo\", \"ano\", \"km\", \"preco\"]])\n",
    "\n",
    "f = sns.scatterplot(data=aux, y=\"preco\", x=\"km\", \n",
    "                    hue=\"cluster\", palette=\"rainbow\")\n",
    "\n",
    "ax = plt.gca()\n",
    "ax.set_title(marca + \" \" + modelo)\n",
    "\n",
    "plt.show()"
   ]
  },
  {
   "cell_type": "code",
   "execution_count": null,
   "metadata": {},
   "outputs": [],
   "source": []
  },
  {
   "cell_type": "code",
   "execution_count": null,
   "metadata": {},
   "outputs": [],
   "source": []
  },
  {
   "cell_type": "code",
   "execution_count": null,
   "metadata": {},
   "outputs": [],
   "source": []
  },
  {
   "cell_type": "code",
   "execution_count": null,
   "metadata": {},
   "outputs": [],
   "source": []
  },
  {
   "cell_type": "code",
   "execution_count": null,
   "metadata": {},
   "outputs": [],
   "source": []
  },
  {
   "cell_type": "code",
   "execution_count": null,
   "metadata": {},
   "outputs": [],
   "source": []
  },
  {
   "cell_type": "code",
   "execution_count": null,
   "metadata": {},
   "outputs": [],
   "source": []
  },
  {
   "cell_type": "code",
   "execution_count": null,
   "metadata": {},
   "outputs": [],
   "source": []
  },
  {
   "cell_type": "code",
   "execution_count": null,
   "metadata": {},
   "outputs": [],
   "source": []
  },
  {
   "cell_type": "code",
   "execution_count": null,
   "metadata": {},
   "outputs": [],
   "source": []
  },
  {
   "cell_type": "code",
   "execution_count": null,
   "metadata": {
    "scrolled": true
   },
   "outputs": [],
   "source": [
    "# fipe_perc por marca - visão de valorização por marca\n",
    "\n",
    "df.groupby(\"marca\")[[\"fipe_perc\"]].agg([\"mean\", \"median\", \"count\"])"
   ]
  },
  {
   "cell_type": "code",
   "execution_count": null,
   "metadata": {
    "ExecuteTime": {
     "end_time": "2021-04-03T00:18:57.935118Z",
     "start_time": "2021-04-03T00:18:57.868612Z"
    }
   },
   "outputs": [],
   "source": [
    "# fipe_perc por marca e modelo - visão de valorização por marca\n",
    "\n",
    "df.groupby([\"marca\", \"modelo\"])[[\"fipe_perc\"]].agg([\"mean\", \"median\", \"count\"])"
   ]
  },
  {
   "cell_type": "code",
   "execution_count": null,
   "metadata": {},
   "outputs": [],
   "source": []
  },
  {
   "cell_type": "code",
   "execution_count": null,
   "metadata": {},
   "outputs": [],
   "source": []
  },
  {
   "cell_type": "code",
   "execution_count": null,
   "metadata": {},
   "outputs": [],
   "source": [
    "aux = df_marcas[\"HYUNDAI\"][df_marcas[\"HYUNDAI\"][\"modelo\"] == \"HB20\"]\n",
    "\n",
    "aux = aux[aux[\"km\"] < 5e5]\n",
    "\n",
    "plt.figure(figsize=(16, 8))\n",
    "\n",
    "sns.jointplot(data=aux, y=\"preco\", x=\"km\", hue=\"ano\", palette=\"rainbow\")\n",
    "\n",
    "plt.show()"
   ]
  },
  {
   "cell_type": "code",
   "execution_count": null,
   "metadata": {
    "scrolled": true
   },
   "outputs": [],
   "source": [
    "for ano in aux[\"ano\"].unique():\n",
    "    \n",
    "    aux2 = aux[aux[\"ano\"] == ano]\n",
    "    \n",
    "    sns.jointplot(data=aux2, y=\"preco\", x=\"km\", hue=\"ano\", palette=\"rainbow\")\n",
    "    \n",
    "    plt.show()"
   ]
  },
  {
   "cell_type": "code",
   "execution_count": null,
   "metadata": {},
   "outputs": [],
   "source": [
    "aux[(aux[\"km\"] < 10000) & (aux[\"preco\"] <40000)] "
   ]
  },
  {
   "cell_type": "markdown",
   "metadata": {},
   "source": [
    "______\n",
    "\n",
    "### 4) Análise por faixas"
   ]
  },
  {
   "cell_type": "code",
   "execution_count": null,
   "metadata": {},
   "outputs": [],
   "source": [
    "# para auxiliar a definir as faixas...\n",
    "\n",
    "df[[\"preco\", \"km\", \"ano\"]].describe()"
   ]
  },
  {
   "cell_type": "code",
   "execution_count": null,
   "metadata": {},
   "outputs": [],
   "source": [
    "for col in [\"preco\", \"km\", \"ano\"]:\n",
    "    \n",
    "    plt.figure(figsize=(12, 6))\n",
    "\n",
    "    plt.title(\"Distribuição - coluna \" + col , size=18)\n",
    "\n",
    "    sns.histplot(df[col], kde=True, alpha=0.2)\n",
    "\n",
    "    # plotando média\n",
    "    plt.axvline(x=df[col].mean(), color=\"red\", label=\"média\")\n",
    "\n",
    "    # plotando a mediana\n",
    "    plt.axvline(x=df[col].median(), color=\"green\", label=\"mediana\")\n",
    "\n",
    "    # plotando a(s) moda(s)\n",
    "    for i in range(df[col].mode().shape[0]):\n",
    "\n",
    "        plt.axvline(x=df[col].mode()[i], color=\"yellow\", label=\"moda\")\n",
    "\n",
    "    plt.legend()\n",
    "    plt.show()"
   ]
  },
  {
   "cell_type": "code",
   "execution_count": null,
   "metadata": {},
   "outputs": [],
   "source": [
    "col = \"preco\"\n",
    "\n",
    "plt.figure(figsize=(12, 6))\n",
    "\n",
    "plt.title(\"Distribuição de preços\" , size=18)\n",
    "\n",
    "sns.histplot(df[col], kde=True, alpha=0.2)\n",
    "\n",
    "# plotando média\n",
    "plt.axvline(x=df[col].mean(), color=\"red\", label=\"média\")\n",
    "\n",
    "# plotando a mediana\n",
    "plt.axvline(x=df[col].median(), color=\"green\", label=\"mediana\")\n",
    "\n",
    "# plotando a(s) moda(s)\n",
    "for i in range(df[col].mode().shape[0]):\n",
    "\n",
    "    plt.axvline(x=df[col].mode()[i], color=\"yellow\", label=\"moda\")\n",
    "\n",
    "plt.legend()\n",
    "plt.show()\n",
    "\n",
    "############################################\n",
    "\n",
    "plt.figure(figsize=(12, 6))\n",
    "\n",
    "plt.title(\"Distribuição de log10-preços\" , size=18)\n",
    "\n",
    "sns.histplot(np.log10(df[col]), kde=True, alpha=0.2)\n",
    "\n",
    "# plotando média\n",
    "plt.axvline(x=np.log10(df[col]).mean(), color=\"red\", label=\"média\")\n",
    "\n",
    "# plotando a mediana\n",
    "plt.axvline(x=np.log10(df[col]).median(), color=\"green\", label=\"mediana\")\n",
    "\n",
    "# plotando a(s) moda(s)\n",
    "for i in range(np.log10(df[col]).mode().shape[0]):\n",
    "\n",
    "    plt.axvline(x=np.log10(df[col]).mode()[i], color=\"yellow\", label=\"moda\")\n",
    "\n",
    "plt.legend()\n",
    "plt.show()"
   ]
  },
  {
   "cell_type": "markdown",
   "metadata": {},
   "source": [
    "_________\n",
    "\n",
    "## 5) EDO\n",
    "\n",
    "Marca, modelo, ano\n",
    "\n",
    "elimina outliers -- 3, 4, 5 std. km\n",
    "\n",
    "ipva pago, revisão: importante\n",
    "\n",
    "aí, olha pra tabela fipe\n",
    "\n"
   ]
  },
  {
   "cell_type": "code",
   "execution_count": null,
   "metadata": {},
   "outputs": [],
   "source": [
    "df[df[\"ano\"] == 2012]"
   ]
  },
  {
   "cell_type": "code",
   "execution_count": null,
   "metadata": {},
   "outputs": [],
   "source": [
    "df[(df[\"preco\"] < 80e3) & \n",
    "   (~df[\"marca\"].isin([\"RENAULT\", \"PEUGEOT\", \"CITROËN\"])) &\n",
    "   (df[\"ano\"] > 2013)].sort_values(\"fipe_perc\").to_excel(\"query_edo1.xlsx\")"
   ]
  },
  {
   "cell_type": "markdown",
   "metadata": {},
   "source": [
    "____\n",
    "____\n",
    "____\n",
    "____\n",
    "____\n",
    "____\n",
    "____\n",
    "____\n",
    "____\n",
    "____\n",
    "____\n",
    "____\n",
    "____\n",
    "____\n",
    "____\n",
    "____"
   ]
  },
  {
   "cell_type": "code",
   "execution_count": null,
   "metadata": {},
   "outputs": [],
   "source": []
  },
  {
   "cell_type": "code",
   "execution_count": null,
   "metadata": {},
   "outputs": [],
   "source": []
  },
  {
   "cell_type": "code",
   "execution_count": null,
   "metadata": {},
   "outputs": [],
   "source": []
  },
  {
   "cell_type": "code",
   "execution_count": null,
   "metadata": {},
   "outputs": [],
   "source": []
  },
  {
   "cell_type": "code",
   "execution_count": null,
   "metadata": {},
   "outputs": [],
   "source": []
  },
  {
   "cell_type": "code",
   "execution_count": null,
   "metadata": {},
   "outputs": [],
   "source": [
    "assert(False)"
   ]
  },
  {
   "cell_type": "code",
   "execution_count": null,
   "metadata": {},
   "outputs": [],
   "source": [
    "df[\"ano_fabricação\"] = df[\"ano_fabricação\"].apply(lambda x: int(x))\n",
    "\n",
    "# claramente um outlier...\n",
    "df = df[df[\"preço\"] < 1e8]\n",
    "\n",
    "sns.jointplot(data=df, x=\"ano_fabricação\", y=\"preço\")"
   ]
  },
  {
   "cell_type": "code",
   "execution_count": null,
   "metadata": {},
   "outputs": [],
   "source": [
    "sns.jointplot(data=df, x=\"km\", y=\"preço\")"
   ]
  },
  {
   "cell_type": "code",
   "execution_count": null,
   "metadata": {},
   "outputs": [],
   "source": [
    "plt.figure(figsize=(15, 12))\n",
    "\n",
    "sns.jointplot(data=df[df[\"marca\"].isin([\"CHEVROLET\", \"VOLKSWAGEN\"])], x=\"km\", y=\"preço\", hue=\"marca\")\n",
    "\n",
    "plt.show()"
   ]
  },
  {
   "cell_type": "code",
   "execution_count": null,
   "metadata": {},
   "outputs": [],
   "source": []
  },
  {
   "cell_type": "code",
   "execution_count": null,
   "metadata": {},
   "outputs": [],
   "source": [
    "df[df[\"preço\"] != df[\"preço_busca\"]]"
   ]
  },
  {
   "cell_type": "code",
   "execution_count": null,
   "metadata": {},
   "outputs": [],
   "source": [
    "df.groupby([\"marca\", \"modelo\"])[[\"modelo\"]].count()"
   ]
  },
  {
   "cell_type": "code",
   "execution_count": null,
   "metadata": {},
   "outputs": [],
   "source": [
    "aux = df.groupby([\"marca\", \"modelo\", \"ano_fabricação\"])[[\"ano_fabricação\"]].count()"
   ]
  },
  {
   "cell_type": "code",
   "execution_count": null,
   "metadata": {},
   "outputs": [],
   "source": [
    "aux.loc[['HONDA']]"
   ]
  },
  {
   "cell_type": "code",
   "execution_count": null,
   "metadata": {},
   "outputs": [],
   "source": []
  },
  {
   "cell_type": "code",
   "execution_count": null,
   "metadata": {},
   "outputs": [],
   "source": []
  },
  {
   "cell_type": "code",
   "execution_count": null,
   "metadata": {},
   "outputs": [],
   "source": []
  },
  {
   "cell_type": "code",
   "execution_count": null,
   "metadata": {},
   "outputs": [],
   "source": []
  },
  {
   "cell_type": "code",
   "execution_count": null,
   "metadata": {},
   "outputs": [],
   "source": [
    ".jsonimport requests \n",
    "\n",
    "resposta = requests.get(\"https://fipeapi.appspot.com/api/1/carros/veiculos/21.json\")"
   ]
  },
  {
   "cell_type": "code",
   "execution_count": null,
   "metadata": {
    "scrolled": true
   },
   "outputs": [],
   "source": [
    "resposta.json()"
   ]
  }
 ],
 "metadata": {
  "kernelspec": {
   "display_name": "Python 3",
   "language": "python",
   "name": "python3"
  },
  "language_info": {
   "codemirror_mode": {
    "name": "ipython",
    "version": 3
   },
   "file_extension": ".py",
   "mimetype": "text/x-python",
   "name": "python",
   "nbconvert_exporter": "python",
   "pygments_lexer": "ipython3",
   "version": "3.8.5"
  }
 },
 "nbformat": 4,
 "nbformat_minor": 4
}
