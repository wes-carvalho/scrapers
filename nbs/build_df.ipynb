{
 "cells": [
  {
   "cell_type": "code",
   "execution_count": 1,
   "metadata": {},
   "outputs": [],
   "source": [
    "import numpy as np\n",
    "import pandas as pd\n",
    "import json"
   ]
  },
  {
   "cell_type": "code",
   "execution_count": 2,
   "metadata": {},
   "outputs": [],
   "source": [
    "# lê o arquivo e cria lista com cada json\n",
    "\n",
    "with open(\"../data/car_info.json\") as f:\n",
    "    \n",
    "    json_list = json.load(f)"
   ]
  },
  {
   "cell_type": "code",
   "execution_count": 3,
   "metadata": {},
   "outputs": [
    {
     "data": {
      "text/plain": [
       "['Channels', 'HotDeal']"
      ]
     },
     "execution_count": 3,
     "metadata": {},
     "output_type": "execute_result"
    }
   ],
   "source": [
    "# identificando quais chaves têm listas como valores\n",
    "# nestes casos, o json_normalize falha, por isso é importante identificarmos\n",
    "# antes pra fazer o flatenning\n",
    "\n",
    "list_values = []\n",
    "for item in json_list:\n",
    "    \n",
    "    for key in item.keys():\n",
    "\n",
    "        if type(item[key]) == list:\n",
    "\n",
    "            # print(key, item[key])\n",
    "            \n",
    "            if key not in list_values:\n",
    "                \n",
    "                list_values.append(key)\n",
    "                \n",
    "    # print(\"\\n\", \"#\"*20, \"\\n\")\n",
    "    \n",
    "list_values"
   ]
  },
  {
   "cell_type": "code",
   "execution_count": 4,
   "metadata": {},
   "outputs": [],
   "source": [
    "# fazendo o flattening dos valores que são listas\n",
    "\n",
    "for item in json_list:\n",
    "    \n",
    "    for key in list_values:\n",
    "\n",
    "        try:\n",
    "            for i in range(len(item[key])):\n",
    "\n",
    "                item[key + \"_\" + str(i+1)] = item[key][i]\n",
    "                \n",
    "            item.pop(key)\n",
    "        \n",
    "        except:\n",
    "            \n",
    "            pass"
   ]
  },
  {
   "cell_type": "code",
   "execution_count": 5,
   "metadata": {},
   "outputs": [],
   "source": [
    "# montando o df\n",
    "\n",
    "df = pd.json_normalize(json_list)"
   ]
  },
  {
   "cell_type": "code",
   "execution_count": 6,
   "metadata": {},
   "outputs": [
    {
     "data": {
      "text/plain": [
       "LongComment                         8.31%\n",
       "FipePercent                         4.01%\n",
       "Specification.VehicleAttributes      1.0%\n",
       "GoodDeal                           80.89%\n",
       "Channels_2.id                       87.4%\n",
       "Channels_2.Value                    87.4%\n",
       "Prices.OldPrice                    99.59%\n",
       "HotDeal_1.Id                        98.6%\n",
       "HotDeal_1.Value                     98.6%\n",
       "VipAutopago                        99.82%\n",
       "dtype: object"
      ]
     },
     "execution_count": 6,
     "metadata": {},
     "output_type": "execute_result"
    }
   ],
   "source": [
    "# colunas com dados missing\n",
    "\n",
    "missing = df.isnull().sum()[df.isnull().sum().apply(lambda x: True if x!=0 else False)]\n",
    "\n",
    "# normalizando\n",
    "missing = (missing/df.shape[0])\n",
    "\n",
    "missing.apply(lambda x: str(round(x*100, 2)) + \"%\" if x != 0 else \"-\")"
   ]
  },
  {
   "cell_type": "code",
   "execution_count": 7,
   "metadata": {},
   "outputs": [
    {
     "name": "stdout",
     "output_type": "stream",
     "text": [
      "\n",
      "Threshold: 50.0%\n",
      "\n"
     ]
    },
    {
     "data": {
      "text/plain": [
       "GoodDeal            0.808853\n",
       "Channels_2.id       0.874001\n",
       "Channels_2.Value    0.874001\n",
       "Prices.OldPrice     0.995903\n",
       "HotDeal_1.Id        0.986011\n",
       "HotDeal_1.Value     0.986011\n",
       "VipAutopago         0.998201\n",
       "dtype: float64"
      ]
     },
     "metadata": {},
     "output_type": "display_data"
    }
   ],
   "source": [
    "# vamos dropar as colunas que tenham mais que 50% de NaNs\n",
    "\n",
    "threshold_drop = 0.5\n",
    "\n",
    "print(\"\\nThreshold: \" + str(threshold_drop*100) + \"%\\n\")\n",
    "display(missing[missing>threshold_drop])\n",
    "\n",
    "drop_nans = missing[missing>threshold_drop].index.tolist()\n",
    "\n",
    "# dropando!\n",
    "df = df.drop(columns=drop_nans)"
   ]
  },
  {
   "cell_type": "code",
   "execution_count": 27,
   "metadata": {},
   "outputs": [],
   "source": [
    "rename_dic = {'UniqueId' : 'UniqueId',\n",
    "                'ProductCode' : 'ProductCode',\n",
    "                'LongComment' : 'comentário',\n",
    "                'FipePercent' : 'fipe_perc',\n",
    "                'Specification.Title' : 'titulo_anuncio',\n",
    "                'Specification.Make.id' : 'Specification.Make.id',\n",
    "                'Specification.Make.Value' : 'marca',\n",
    "                'Specification.Model.id' : 'Specification.Model.id',\n",
    "                'Specification.Model.Value' : 'modelo',\n",
    "                'Specification.Version.id' : 'Specification.Version.id',\n",
    "                'Specification.Version.Value' : 'versão',\n",
    "                'Specification.YearFabrication' : 'ano_fabricação',\n",
    "                'Specification.YearModel' : 'ano_modelo',\n",
    "                'Specification.Odometer' : 'km',\n",
    "                'Specification.Transmission' : 'transmissão',\n",
    "                'Specification.NumberPorts' : 'num_portas',\n",
    "                'Specification.VehicleAttributes' : 'atributos',\n",
    "                'Specification.Armored' : 'blindado',\n",
    "                'Specification.Color.IdPrimary' : 'Specification.Color.IdPrimary',\n",
    "                'Specification.Color.Primary' : 'cor',\n",
    "                'Seller.Id' : 'Seller.Id',\n",
    "                'Seller.SellerType' : 'vendedor_tipo',\n",
    "                'Seller.City' : 'vendedor_cidade',\n",
    "                'Seller.State' : 'vendedor_estado',\n",
    "                'Seller.AdType.id' : 'Seller.AdType.id',\n",
    "                'Seller.AdType.Value' : 'tipo_anuncio',\n",
    "                'Seller.BudgetInvestimento' : 'Seller.BudgetInvestimento',\n",
    "                'Seller.DealerScore' : 'Seller.DealerScore',\n",
    "                'Seller.CarDelivery' : 'car_delivery',\n",
    "                'Seller.TrocaComTroco' : 'troca_troco',\n",
    "                'Prices.Price' : 'preço',\n",
    "                'Prices.SearchPrice' : 'preço_busca',\n",
    "                'Channels_1.id' : 'Channels_1.id',\n",
    "                'Channels_1.Value' : 'Channels_1.Value'}\n",
    "\n",
    "df = df.rename(columns=rename_dic)\n",
    "\n",
    "cols_select = ['titulo_anuncio','marca','modelo','versão','ano_fabricação','ano_modelo','km',\n",
    "               'preço','preço_busca','fipe_perc',\n",
    "               'cor','transmissão','num_portas','atributos','comentário','blindado',\n",
    "               'vendedor_tipo','vendedor_cidade','vendedor_estado','tipo_anuncio',\n",
    "               'car_delivery','troca_troco']\n",
    "\n",
    "df = df[cols_select]"
   ]
  },
  {
   "cell_type": "code",
   "execution_count": 28,
   "metadata": {},
   "outputs": [
    {
     "data": {
      "text/html": [
       "<div>\n",
       "<style scoped>\n",
       "    .dataframe tbody tr th:only-of-type {\n",
       "        vertical-align: middle;\n",
       "    }\n",
       "\n",
       "    .dataframe tbody tr th {\n",
       "        vertical-align: top;\n",
       "    }\n",
       "\n",
       "    .dataframe thead th {\n",
       "        text-align: right;\n",
       "    }\n",
       "</style>\n",
       "<table border=\"1\" class=\"dataframe\">\n",
       "  <thead>\n",
       "    <tr style=\"text-align: right;\">\n",
       "      <th></th>\n",
       "      <th>titulo_anuncio</th>\n",
       "      <th>marca</th>\n",
       "      <th>modelo</th>\n",
       "      <th>versão</th>\n",
       "      <th>ano_fabricação</th>\n",
       "      <th>ano_modelo</th>\n",
       "      <th>km</th>\n",
       "      <th>preço</th>\n",
       "      <th>preço_busca</th>\n",
       "      <th>fipe_perc</th>\n",
       "      <th>cor</th>\n",
       "      <th>transmissão</th>\n",
       "      <th>num_portas</th>\n",
       "      <th>atributos</th>\n",
       "      <th>comentário</th>\n",
       "      <th>blindado</th>\n",
       "      <th>vendedor_tipo</th>\n",
       "      <th>vendedor_cidade</th>\n",
       "      <th>vendedor_estado</th>\n",
       "      <th>tipo_anuncio</th>\n",
       "      <th>car_delivery</th>\n",
       "      <th>troca_troco</th>\n",
       "    </tr>\n",
       "  </thead>\n",
       "  <tbody>\n",
       "    <tr>\n",
       "      <th>0</th>\n",
       "      <td>LAND ROVER RANGE ROVER SPORT 3.0 HSE 4X4 V6 24V TURBO DIESEL 4P AUTOMÁTICO</td>\n",
       "      <td>LAND ROVER</td>\n",
       "      <td>RANGE ROVER SPORT</td>\n",
       "      <td>3.0 HSE 4X4 V6 24V TURBO DIESEL 4P AUTOMÁTICO</td>\n",
       "      <td>2014</td>\n",
       "      <td>2014.0</td>\n",
       "      <td>50000.0</td>\n",
       "      <td>279900.0</td>\n",
       "      <td>279900.0</td>\n",
       "      <td>123.0</td>\n",
       "      <td>Branco</td>\n",
       "      <td>Automatizada</td>\n",
       "      <td>4</td>\n",
       "      <td>[{'Name': 'Único dono'}, {'Name': 'IPVA pago'}, {'Name': 'Licenciado'}, {'Name': 'Garantia de fábrica'}]</td>\n",
       "      <td>Veículo impecável. \\n\\núnico dono.</td>\n",
       "      <td>S</td>\n",
       "      <td>PF</td>\n",
       "      <td>Santana de Parnaíba</td>\n",
       "      <td>São Paulo (SP)</td>\n",
       "      <td>Pessoa Física</td>\n",
       "      <td>False</td>\n",
       "      <td>False</td>\n",
       "    </tr>\n",
       "    <tr>\n",
       "      <th>1</th>\n",
       "      <td>JAGUAR XF 2.0 LUXURY TURBOCHARGED GASOLINA 4P AUTOMÁTICO</td>\n",
       "      <td>JAGUAR</td>\n",
       "      <td>XF</td>\n",
       "      <td>2.0 LUXURY TURBOCHARGED GASOLINA 4P AUTOMÁTICO</td>\n",
       "      <td>2014</td>\n",
       "      <td>2015.0</td>\n",
       "      <td>44000.0</td>\n",
       "      <td>105000.0</td>\n",
       "      <td>105000.0</td>\n",
       "      <td>87.0</td>\n",
       "      <td>Preto</td>\n",
       "      <td>Automática</td>\n",
       "      <td>4</td>\n",
       "      <td>[{'Name': 'Aceita troca'}, {'Name': 'Único dono'}, {'Name': 'Todas as revisões feitas pela concessionária'}, {'Name': 'IPVA pago'}, {'Name': 'Licenciado'}]</td>\n",
       "      <td>NaN</td>\n",
       "      <td>N</td>\n",
       "      <td>PF</td>\n",
       "      <td>São Paulo</td>\n",
       "      <td>São Paulo (SP)</td>\n",
       "      <td>Pessoa Física</td>\n",
       "      <td>False</td>\n",
       "      <td>False</td>\n",
       "    </tr>\n",
       "    <tr>\n",
       "      <th>2</th>\n",
       "      <td>PEUGEOT 208 1.6 GRIFFE 16V FLEX 4P AUTOMÁTICO</td>\n",
       "      <td>PEUGEOT</td>\n",
       "      <td>208</td>\n",
       "      <td>1.6 GRIFFE 16V FLEX 4P AUTOMÁTICO</td>\n",
       "      <td>2014</td>\n",
       "      <td>2014.0</td>\n",
       "      <td>36000.0</td>\n",
       "      <td>26000.0</td>\n",
       "      <td>26000.0</td>\n",
       "      <td>72.0</td>\n",
       "      <td>Branco</td>\n",
       "      <td>Automática</td>\n",
       "      <td>0</td>\n",
       "      <td>[{'Name': 'Único dono'}, {'Name': 'IPVA pago'}, {'Name': 'Licenciado'}]</td>\n",
       "      <td>O valor do veículo no estado em que se encontra é de R$ 15.000,00.\\nVale a pena conhecer!!\\nFoi anunciado por R$ 26.000,00 pois o site não aceita valor menor, mas o correto é R$ 15.000,00\\n</td>\n",
       "      <td>N</td>\n",
       "      <td>PF</td>\n",
       "      <td>Campinas</td>\n",
       "      <td>São Paulo (SP)</td>\n",
       "      <td>Pessoa Física</td>\n",
       "      <td>False</td>\n",
       "      <td>False</td>\n",
       "    </tr>\n",
       "  </tbody>\n",
       "</table>\n",
       "</div>"
      ],
      "text/plain": [
       "                                                               titulo_anuncio  \\\n",
       "0  LAND ROVER RANGE ROVER SPORT 3.0 HSE 4X4 V6 24V TURBO DIESEL 4P AUTOMÁTICO   \n",
       "1                    JAGUAR XF 2.0 LUXURY TURBOCHARGED GASOLINA 4P AUTOMÁTICO   \n",
       "2                               PEUGEOT 208 1.6 GRIFFE 16V FLEX 4P AUTOMÁTICO   \n",
       "\n",
       "        marca             modelo  \\\n",
       "0  LAND ROVER  RANGE ROVER SPORT   \n",
       "1      JAGUAR                 XF   \n",
       "2     PEUGEOT                208   \n",
       "\n",
       "                                           versão ano_fabricação  ano_modelo  \\\n",
       "0   3.0 HSE 4X4 V6 24V TURBO DIESEL 4P AUTOMÁTICO           2014      2014.0   \n",
       "1  2.0 LUXURY TURBOCHARGED GASOLINA 4P AUTOMÁTICO           2014      2015.0   \n",
       "2               1.6 GRIFFE 16V FLEX 4P AUTOMÁTICO           2014      2014.0   \n",
       "\n",
       "        km     preço  preço_busca  fipe_perc     cor   transmissão num_portas  \\\n",
       "0  50000.0  279900.0     279900.0      123.0  Branco  Automatizada          4   \n",
       "1  44000.0  105000.0     105000.0       87.0   Preto    Automática          4   \n",
       "2  36000.0   26000.0      26000.0       72.0  Branco    Automática          0   \n",
       "\n",
       "                                                                                                                                                     atributos  \\\n",
       "0                                                     [{'Name': 'Único dono'}, {'Name': 'IPVA pago'}, {'Name': 'Licenciado'}, {'Name': 'Garantia de fábrica'}]   \n",
       "1  [{'Name': 'Aceita troca'}, {'Name': 'Único dono'}, {'Name': 'Todas as revisões feitas pela concessionária'}, {'Name': 'IPVA pago'}, {'Name': 'Licenciado'}]   \n",
       "2                                                                                      [{'Name': 'Único dono'}, {'Name': 'IPVA pago'}, {'Name': 'Licenciado'}]   \n",
       "\n",
       "                                                                                                                                                                                      comentário  \\\n",
       "0                                                                                                                                                             Veículo impecável. \\n\\núnico dono.   \n",
       "1                                                                                                                                                                                            NaN   \n",
       "2  O valor do veículo no estado em que se encontra é de R$ 15.000,00.\\nVale a pena conhecer!!\\nFoi anunciado por R$ 26.000,00 pois o site não aceita valor menor, mas o correto é R$ 15.000,00\\n   \n",
       "\n",
       "  blindado vendedor_tipo      vendedor_cidade vendedor_estado   tipo_anuncio  \\\n",
       "0        S            PF  Santana de Parnaíba  São Paulo (SP)  Pessoa Física   \n",
       "1        N            PF            São Paulo  São Paulo (SP)  Pessoa Física   \n",
       "2        N            PF             Campinas  São Paulo (SP)  Pessoa Física   \n",
       "\n",
       "   car_delivery  troca_troco  \n",
       "0         False        False  \n",
       "1         False        False  \n",
       "2         False        False  "
      ]
     },
     "execution_count": 28,
     "metadata": {},
     "output_type": "execute_result"
    }
   ],
   "source": [
    "# TODO: funcao\n",
    "# https://towardsdatascience.com/how-to-show-all-columns-rows-of-a-pandas-dataframe-c49d4507fcf\n",
    "\n",
    "pd.set_option('display.max_colwidth', None)\n",
    "pd.set_option('display.max_columns', None)\n",
    "\n",
    "df.head(3)"
   ]
  },
  {
   "cell_type": "markdown",
   "metadata": {},
   "source": [
    "____\n",
    "____"
   ]
  },
  {
   "cell_type": "code",
   "execution_count": 68,
   "metadata": {},
   "outputs": [
    {
     "data": {
      "text/html": [
       "<div>\n",
       "<style scoped>\n",
       "    .dataframe tbody tr th:only-of-type {\n",
       "        vertical-align: middle;\n",
       "    }\n",
       "\n",
       "    .dataframe tbody tr th {\n",
       "        vertical-align: top;\n",
       "    }\n",
       "\n",
       "    .dataframe thead th {\n",
       "        text-align: right;\n",
       "    }\n",
       "</style>\n",
       "<table border=\"1\" class=\"dataframe\">\n",
       "  <thead>\n",
       "    <tr style=\"text-align: right;\">\n",
       "      <th></th>\n",
       "      <th>titulo_anuncio</th>\n",
       "      <th>marca</th>\n",
       "      <th>modelo</th>\n",
       "      <th>versão</th>\n",
       "      <th>ano_fabricação</th>\n",
       "      <th>ano_modelo</th>\n",
       "      <th>km</th>\n",
       "      <th>preço</th>\n",
       "      <th>preço_busca</th>\n",
       "      <th>fipe_perc</th>\n",
       "      <th>cor</th>\n",
       "      <th>transmissão</th>\n",
       "      <th>num_portas</th>\n",
       "      <th>atributos</th>\n",
       "      <th>comentário</th>\n",
       "      <th>blindado</th>\n",
       "      <th>vendedor_tipo</th>\n",
       "      <th>vendedor_cidade</th>\n",
       "      <th>vendedor_estado</th>\n",
       "      <th>tipo_anuncio</th>\n",
       "      <th>car_delivery</th>\n",
       "      <th>troca_troco</th>\n",
       "    </tr>\n",
       "  </thead>\n",
       "  <tbody>\n",
       "    <tr>\n",
       "      <th>7433</th>\n",
       "      <td>AUDI A5 2.0 TFSI SPORTBACK AMBITION PLUS 16V GASOLINA 4P S-TRONIC</td>\n",
       "      <td>AUDI</td>\n",
       "      <td>A5</td>\n",
       "      <td>2.0 TFSI SPORTBACK AMBITION PLUS 16V GASOLINA 4P S-TRONIC</td>\n",
       "      <td>2018</td>\n",
       "      <td>2018.0</td>\n",
       "      <td>30000.0</td>\n",
       "      <td>195000000.0</td>\n",
       "      <td>195000000.0</td>\n",
       "      <td>97365.0</td>\n",
       "      <td>Preto</td>\n",
       "      <td>Automática</td>\n",
       "      <td>4</td>\n",
       "      <td>[{'Name': 'Aceita troca'}, {'Name': 'Todas as revisões feitas pela agenda do carro'}, {'Name': 'Único dono'}, {'Name': 'Todas as revisões feitas pela concessionária'}, {'Name': 'IPVA pago'}, {'Name': 'Licenciado'}, {'Name': 'Garantia de fábrica'}]</td>\n",
       "      <td>Motor 2.0 com tec. FSI que gera 252 cv e acelera de 0 a 100 km/h em 6,0 segundos.\\nCâmbio de dupla embreagem S tronic.\\nTração integral Quattro®.\\nRádio MMI plus com touchpad.\\nSmartphone Interface, com duas entradas USB.\\nTeto solar panorâmico.\\nKit esportivo S line.\\nAudi pre sense, prepara o carro para a eventualidade de uma colisão.\\nAssistance Tour traz sensor de estac. dianteiro, controle de cruzeiro adaptativo com traffic jam assist, assistente para luz alta e assistente para troca de pistas.</td>\n",
       "      <td>N</td>\n",
       "      <td>PF</td>\n",
       "      <td>Florianópolis</td>\n",
       "      <td>Santa Catarina (SC)</td>\n",
       "      <td>Pessoa Física</td>\n",
       "      <td>False</td>\n",
       "      <td>False</td>\n",
       "    </tr>\n",
       "  </tbody>\n",
       "</table>\n",
       "</div>"
      ],
      "text/plain": [
       "                                                         titulo_anuncio marca  \\\n",
       "7433  AUDI A5 2.0 TFSI SPORTBACK AMBITION PLUS 16V GASOLINA 4P S-TRONIC  AUDI   \n",
       "\n",
       "     modelo                                                     versão  \\\n",
       "7433     A5  2.0 TFSI SPORTBACK AMBITION PLUS 16V GASOLINA 4P S-TRONIC   \n",
       "\n",
       "      ano_fabricação  ano_modelo       km        preço  preço_busca  \\\n",
       "7433            2018      2018.0  30000.0  195000000.0  195000000.0   \n",
       "\n",
       "      fipe_perc    cor transmissão num_portas  \\\n",
       "7433    97365.0  Preto  Automática          4   \n",
       "\n",
       "                                                                                                                                                                                                                                                    atributos  \\\n",
       "7433  [{'Name': 'Aceita troca'}, {'Name': 'Todas as revisões feitas pela agenda do carro'}, {'Name': 'Único dono'}, {'Name': 'Todas as revisões feitas pela concessionária'}, {'Name': 'IPVA pago'}, {'Name': 'Licenciado'}, {'Name': 'Garantia de fábrica'}]   \n",
       "\n",
       "                                                                                                                                                                                                                                                                                                                                                                                                                                                                                                                    comentário  \\\n",
       "7433  Motor 2.0 com tec. FSI que gera 252 cv e acelera de 0 a 100 km/h em 6,0 segundos.\\nCâmbio de dupla embreagem S tronic.\\nTração integral Quattro®.\\nRádio MMI plus com touchpad.\\nSmartphone Interface, com duas entradas USB.\\nTeto solar panorâmico.\\nKit esportivo S line.\\nAudi pre sense, prepara o carro para a eventualidade de uma colisão.\\nAssistance Tour traz sensor de estac. dianteiro, controle de cruzeiro adaptativo com traffic jam assist, assistente para luz alta e assistente para troca de pistas.   \n",
       "\n",
       "     blindado vendedor_tipo vendedor_cidade      vendedor_estado  \\\n",
       "7433        N            PF   Florianópolis  Santa Catarina (SC)   \n",
       "\n",
       "       tipo_anuncio  car_delivery  troca_troco  \n",
       "7433  Pessoa Física         False        False  "
      ]
     },
     "execution_count": 68,
     "metadata": {},
     "output_type": "execute_result"
    }
   ],
   "source": []
  },
  {
   "cell_type": "code",
   "execution_count": 69,
   "metadata": {},
   "outputs": [
    {
     "data": {
      "text/plain": [
       "<seaborn.axisgrid.JointGrid at 0x7f1edde18910>"
      ]
     },
     "execution_count": 69,
     "metadata": {},
     "output_type": "execute_result"
    },
    {
     "data": {
      "image/png": "[encoded data removed]",
      "text/plain": [
       "<Figure size 432x432 with 3 Axes>"
      ]
     },
     "metadata": {
      "needs_background": "light"
     },
     "output_type": "display_data"
    }
   ],
   "source": [
    "import matplotlib.pyplot as plt\n",
    "import seaborn as sns\n",
    "\n",
    "df[\"ano_fabricação\"] = df[\"ano_fabricação\"].apply(lambda x: int(x))\n",
    "\n",
    "# claramente um outlier...\n",
    "df = df[df[\"preço\"] < 1e8]\n",
    "\n",
    "sns.jointplot(data=df, x=\"ano_fabricação\", y=\"preço\")"
   ]
  },
  {
   "cell_type": "code",
   "execution_count": 73,
   "metadata": {},
   "outputs": [
    {
     "data": {
      "text/plain": [
       "<seaborn.axisgrid.JointGrid at 0x7f1ed7e470a0>"
      ]
     },
     "execution_count": 73,
     "metadata": {},
     "output_type": "execute_result"
    },
    {
     "data": {
      "image/png": "[encoded data removed]",
      "text/plain": [
       "<Figure size 432x432 with 3 Axes>"
      ]
     },
     "metadata": {
      "needs_background": "light"
     },
     "output_type": "display_data"
    }
   ],
   "source": [
    "sns.jointplot(data=df, x=\"km\", y=\"preço\")"
   ]
  },
  {
   "cell_type": "code",
   "execution_count": 71,
   "metadata": {},
   "outputs": [
    {
     "data": {
      "text/plain": [
       "<Figure size 1080x864 with 0 Axes>"
      ]
     },
     "metadata": {},
     "output_type": "display_data"
    },
    {
     "data": {
      "image/png": "[encoded data removed]",
      "text/plain": [
       "<Figure size 432x432 with 3 Axes>"
      ]
     },
     "metadata": {
      "needs_background": "light"
     },
     "output_type": "display_data"
    }
   ],
   "source": [
    "plt.figure(figsize=(15, 12))\n",
    "\n",
    "sns.jointplot(data=df[df[\"marca\"].isin([\"CHEVROLET\", \"VOLKSWAGEN\"])], x=\"km\", y=\"preço\", hue=\"marca\")\n",
    "\n",
    "plt.show()"
   ]
  },
  {
   "cell_type": "code",
   "execution_count": null,
   "metadata": {},
   "outputs": [],
   "source": []
  },
  {
   "cell_type": "code",
   "execution_count": 25,
   "metadata": {},
   "outputs": [
    {
     "data": {
      "text/html": [
       "<div>\n",
       "<style scoped>\n",
       "    .dataframe tbody tr th:only-of-type {\n",
       "        vertical-align: middle;\n",
       "    }\n",
       "\n",
       "    .dataframe tbody tr th {\n",
       "        vertical-align: top;\n",
       "    }\n",
       "\n",
       "    .dataframe thead th {\n",
       "        text-align: right;\n",
       "    }\n",
       "</style>\n",
       "<table border=\"1\" class=\"dataframe\">\n",
       "  <thead>\n",
       "    <tr style=\"text-align: right;\">\n",
       "      <th></th>\n",
       "      <th>UniqueId</th>\n",
       "      <th>ProductCode</th>\n",
       "      <th>comentário</th>\n",
       "      <th>fipe_perc</th>\n",
       "      <th>titulo_anuncio</th>\n",
       "      <th>Specification.Make.id</th>\n",
       "      <th>marca</th>\n",
       "      <th>Specification.Model.id</th>\n",
       "      <th>modelo</th>\n",
       "      <th>Specification.Version.id</th>\n",
       "      <th>versão</th>\n",
       "      <th>ano_fabricação</th>\n",
       "      <th>ano_modelo</th>\n",
       "      <th>km</th>\n",
       "      <th>transmissão</th>\n",
       "      <th>num_portas</th>\n",
       "      <th>Specification.BodyType</th>\n",
       "      <th>atributos</th>\n",
       "      <th>blindado</th>\n",
       "      <th>Specification.Color.IdPrimary</th>\n",
       "      <th>cor</th>\n",
       "      <th>Seller.Id</th>\n",
       "      <th>vendedor_tipo</th>\n",
       "      <th>vendedor_cidade</th>\n",
       "      <th>vendedor_estado</th>\n",
       "      <th>Seller.AdType.id</th>\n",
       "      <th>tipo_anuncio</th>\n",
       "      <th>Seller.BudgetInvestimento</th>\n",
       "      <th>Seller.DealerScore</th>\n",
       "      <th>car_delivery</th>\n",
       "      <th>troca_troco</th>\n",
       "      <th>preço</th>\n",
       "      <th>preço_busca</th>\n",
       "      <th>Channels_1.id</th>\n",
       "      <th>Channels_1.Value</th>\n",
       "    </tr>\n",
       "  </thead>\n",
       "  <tbody>\n",
       "  </tbody>\n",
       "</table>\n",
       "</div>"
      ],
      "text/plain": [
       "Empty DataFrame\n",
       "Columns: [UniqueId, ProductCode, comentário, fipe_perc, titulo_anuncio, Specification.Make.id, marca, Specification.Model.id, modelo, Specification.Version.id, versão, ano_fabricação, ano_modelo, km, transmissão, num_portas, Specification.BodyType, atributos, blindado, Specification.Color.IdPrimary, cor, Seller.Id, vendedor_tipo, vendedor_cidade, vendedor_estado, Seller.AdType.id, tipo_anuncio, Seller.BudgetInvestimento, Seller.DealerScore, car_delivery, troca_troco, preço, preço_busca, Channels_1.id, Channels_1.Value]\n",
       "Index: []"
      ]
     },
     "execution_count": 25,
     "metadata": {},
     "output_type": "execute_result"
    }
   ],
   "source": [
    "df[df[\"preço\"] != df[\"preço_busca\"]]"
   ]
  },
  {
   "cell_type": "code",
   "execution_count": 34,
   "metadata": {},
   "outputs": [
    {
     "data": {
      "text/html": [
       "<div>\n",
       "<style scoped>\n",
       "    .dataframe tbody tr th:only-of-type {\n",
       "        vertical-align: middle;\n",
       "    }\n",
       "\n",
       "    .dataframe tbody tr th {\n",
       "        vertical-align: top;\n",
       "    }\n",
       "\n",
       "    .dataframe thead th {\n",
       "        text-align: right;\n",
       "    }\n",
       "</style>\n",
       "<table border=\"1\" class=\"dataframe\">\n",
       "  <thead>\n",
       "    <tr style=\"text-align: right;\">\n",
       "      <th></th>\n",
       "      <th></th>\n",
       "      <th>modelo</th>\n",
       "    </tr>\n",
       "    <tr>\n",
       "      <th>marca</th>\n",
       "      <th>modelo</th>\n",
       "      <th></th>\n",
       "    </tr>\n",
       "  </thead>\n",
       "  <tbody>\n",
       "    <tr>\n",
       "      <th rowspan=\"2\" valign=\"top\">ALFA ROMEO</th>\n",
       "      <th>156</th>\n",
       "      <td>2</td>\n",
       "    </tr>\n",
       "    <tr>\n",
       "      <th>164</th>\n",
       "      <td>1</td>\n",
       "    </tr>\n",
       "    <tr>\n",
       "      <th rowspan=\"3\" valign=\"top\">AUDI</th>\n",
       "      <th>A1</th>\n",
       "      <td>13</td>\n",
       "    </tr>\n",
       "    <tr>\n",
       "      <th>A3</th>\n",
       "      <td>103</td>\n",
       "    </tr>\n",
       "    <tr>\n",
       "      <th>A4</th>\n",
       "      <td>42</td>\n",
       "    </tr>\n",
       "    <tr>\n",
       "      <th>...</th>\n",
       "      <th>...</th>\n",
       "      <td>...</td>\n",
       "    </tr>\n",
       "    <tr>\n",
       "      <th rowspan=\"3\" valign=\"top\">VOLVO</th>\n",
       "      <th>XC40</th>\n",
       "      <td>9</td>\n",
       "    </tr>\n",
       "    <tr>\n",
       "      <th>XC60</th>\n",
       "      <td>57</td>\n",
       "    </tr>\n",
       "    <tr>\n",
       "      <th>XC90</th>\n",
       "      <td>19</td>\n",
       "    </tr>\n",
       "    <tr>\n",
       "      <th>WILLYS</th>\n",
       "      <th>JEEP</th>\n",
       "      <td>1</td>\n",
       "    </tr>\n",
       "    <tr>\n",
       "      <th>WILLYS OVERLAND</th>\n",
       "      <th>JEEP</th>\n",
       "      <td>1</td>\n",
       "    </tr>\n",
       "  </tbody>\n",
       "</table>\n",
       "<p>521 rows × 1 columns</p>\n",
       "</div>"
      ],
      "text/plain": [
       "                        modelo\n",
       "marca           modelo        \n",
       "ALFA ROMEO      156          2\n",
       "                164          1\n",
       "AUDI            A1          13\n",
       "                A3         103\n",
       "                A4          42\n",
       "...                        ...\n",
       "VOLVO           XC40         9\n",
       "                XC60        57\n",
       "                XC90        19\n",
       "WILLYS          JEEP         1\n",
       "WILLYS OVERLAND JEEP         1\n",
       "\n",
       "[521 rows x 1 columns]"
      ]
     },
     "execution_count": 34,
     "metadata": {},
     "output_type": "execute_result"
    }
   ],
   "source": [
    "df.groupby([\"marca\", \"modelo\"])[[\"modelo\"]].count()"
   ]
  },
  {
   "cell_type": "code",
   "execution_count": 37,
   "metadata": {},
   "outputs": [],
   "source": [
    "aux = df.groupby([\"marca\", \"modelo\", \"ano_fabricação\"])[[\"ano_fabricação\"]].count()"
   ]
  },
  {
   "cell_type": "code",
   "execution_count": 61,
   "metadata": {},
   "outputs": [
    {
     "data": {
      "text/html": [
       "<div>\n",
       "<style scoped>\n",
       "    .dataframe tbody tr th:only-of-type {\n",
       "        vertical-align: middle;\n",
       "    }\n",
       "\n",
       "    .dataframe tbody tr th {\n",
       "        vertical-align: top;\n",
       "    }\n",
       "\n",
       "    .dataframe thead th {\n",
       "        text-align: right;\n",
       "    }\n",
       "</style>\n",
       "<table border=\"1\" class=\"dataframe\">\n",
       "  <thead>\n",
       "    <tr style=\"text-align: right;\">\n",
       "      <th></th>\n",
       "      <th></th>\n",
       "      <th></th>\n",
       "      <th>ano_fabricação</th>\n",
       "    </tr>\n",
       "    <tr>\n",
       "      <th>marca</th>\n",
       "      <th>modelo</th>\n",
       "      <th>ano_fabricação</th>\n",
       "      <th></th>\n",
       "    </tr>\n",
       "  </thead>\n",
       "  <tbody>\n",
       "    <tr>\n",
       "      <th rowspan=\"11\" valign=\"top\">HONDA</th>\n",
       "      <th rowspan=\"5\" valign=\"top\">ACCORD</th>\n",
       "      <th>2001</th>\n",
       "      <td>1</td>\n",
       "    </tr>\n",
       "    <tr>\n",
       "      <th>2010</th>\n",
       "      <td>1</td>\n",
       "    </tr>\n",
       "    <tr>\n",
       "      <th>2011</th>\n",
       "      <td>1</td>\n",
       "    </tr>\n",
       "    <tr>\n",
       "      <th>2016</th>\n",
       "      <td>2</td>\n",
       "    </tr>\n",
       "    <tr>\n",
       "      <th>2017</th>\n",
       "      <td>2</td>\n",
       "    </tr>\n",
       "    <tr>\n",
       "      <th>...</th>\n",
       "      <th>...</th>\n",
       "      <td>...</td>\n",
       "    </tr>\n",
       "    <tr>\n",
       "      <th>HR-V</th>\n",
       "      <th>2020</th>\n",
       "      <td>5</td>\n",
       "    </tr>\n",
       "    <tr>\n",
       "      <th rowspan=\"4\" valign=\"top\">WR-V</th>\n",
       "      <th>2017</th>\n",
       "      <td>4</td>\n",
       "    </tr>\n",
       "    <tr>\n",
       "      <th>2018</th>\n",
       "      <td>1</td>\n",
       "    </tr>\n",
       "    <tr>\n",
       "      <th>2019</th>\n",
       "      <td>1</td>\n",
       "    </tr>\n",
       "    <tr>\n",
       "      <th>2020</th>\n",
       "      <td>1</td>\n",
       "    </tr>\n",
       "  </tbody>\n",
       "</table>\n",
       "<p>74 rows × 1 columns</p>\n",
       "</div>"
      ],
      "text/plain": [
       "                             ano_fabricação\n",
       "marca modelo ano_fabricação                \n",
       "HONDA ACCORD 2001                         1\n",
       "             2010                         1\n",
       "             2011                         1\n",
       "             2016                         2\n",
       "             2017                         2\n",
       "...                                     ...\n",
       "      HR-V   2020                         5\n",
       "      WR-V   2017                         4\n",
       "             2018                         1\n",
       "             2019                         1\n",
       "             2020                         1\n",
       "\n",
       "[74 rows x 1 columns]"
      ]
     },
     "execution_count": 61,
     "metadata": {},
     "output_type": "execute_result"
    }
   ],
   "source": [
    "aux.loc[['HONDA']]"
   ]
  }
 ],
 "metadata": {
  "kernelspec": {
   "display_name": "Python 3",
   "language": "python",
   "name": "python3"
  },
  "language_info": {
   "codemirror_mode": {
    "name": "ipython",
    "version": 3
   },
   "file_extension": ".py",
   "mimetype": "text/x-python",
   "name": "python",
   "nbconvert_exporter": "python",
   "pygments_lexer": "ipython3",
   "version": "3.8.5"
  }
 },
 "nbformat": 4,
 "nbformat_minor": 4
}
